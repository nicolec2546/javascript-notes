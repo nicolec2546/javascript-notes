{
 "cells": [
  {
   "cell_type": "markdown",
   "id": "bd01527c-4de2-4b78-b48e-8fb93b73af3d",
   "metadata": {},
   "source": [
    "# JavaScript Lists(Arrays)\n",
    "***"
   ]
  },
  {
   "cell_type": "markdown",
   "id": "218753e8-f276-44ad-bf7e-c3c8d78bd818",
   "metadata": {},
   "source": [
    "Documentation located here."
   ]
  },
  {
   "cell_type": "markdown",
   "id": "d669c323-02c9-479f-bb42-ffda499f8764",
   "metadata": {},
   "source": [
    "JavaScript Lists: Commonly referred to as Arrays, are a way to store multiple values in a\n",
    "single variable. Arrays are incredibly useful for managing and manipulating sets of data."
   ]
  },
  {
   "cell_type": "markdown",
   "id": "29f6fa48-fa48-42ff-b79a-bb371da76eab",
   "metadata": {},
   "source": [
    "#  Creating and Initializing Arrays\n",
    "***"
   ]
  },
  {
   "cell_type": "markdown",
   "id": "7e53e237-ad51-46fa-9ee1-b23ac0255e18",
   "metadata": {},
   "source": [
    "An array can hold a collection of items, which can be of various data types such as strings,\n",
    "numbers, booleans, and even other arrays or objects."
   ]
  },
  {
   "cell_type": "markdown",
   "id": "3c1f2199-12e2-45a6-be8a-ec0ba744a2cc",
   "metadata": {},
   "source": [
    "Syntax"
   ]
  },
  {
   "cell_type": "markdown",
   "id": "f23b5de5-849c-4b86-a999-d05f1eadb496",
   "metadata": {},
   "source": [
    "To create an array, you use square brackets []. You can initialize an array with items or start\n",
    "with an empty array."
   ]
  },
  {
   "cell_type": "code",
   "execution_count": 7,
   "id": "d984650a-76d2-46c6-974b-e225f4cc5a49",
   "metadata": {},
   "outputs": [],
   "source": [
    "# Initializing an empty array\n",
    "fruits = [];\n",
    "# Initializing an array with items\n",
    "colors = [\"red\", \"green\", \"blue\"];"
   ]
  },
  {
   "cell_type": "markdown",
   "id": "54dcbda3-aa72-463d-97d5-dda7719d5872",
   "metadata": {},
   "source": [
    "### Accessing Array Elements\n",
    "***"
   ]
  },
  {
   "cell_type": "markdown",
   "id": "8939cec1-dea0-4732-a3fd-3cfe2b2dcc78",
   "metadata": {},
   "source": [
    "Each item in an array has an index, starting from 0. You can access an element by using its\n",
    "index inside square brackets."
   ]
  },
  {
   "cell_type": "markdown",
   "id": "4a5ee5af-6241-4653-a634-6329acdd5677",
   "metadata": {},
   "source": [
    "### IMPORTANT NOTE: THE AP CSP EXAM STARTS INDEXES AT 1 NOT 0, CONTRARY TO MANY PROGRAMMING LANGAUGES."
   ]
  },
  {
   "cell_type": "code",
   "execution_count": 10,
   "id": "941b6134-a0d4-44b5-a39e-428495245e10",
   "metadata": {},
   "outputs": [
    {
     "name": "stdout",
     "output_type": "stream",
     "text": [
      "red\n"
     ]
    }
   ],
   "source": [
    "firstColor = colors[0]; # Accessing the first item, \"red\"\n",
    "print(firstColor); #Output: \"red\""
   ]
  },
  {
   "cell_type": "markdown",
   "id": "e025cf0c-71b1-46be-8f96-21e208d8911b",
   "metadata": {},
   "source": [
    "### Modifying Arrays\n",
    "***"
   ]
  },
  {
   "cell_type": "markdown",
   "id": "e21cd925-8d45-4d75-8667-65c64cd5ace3",
   "metadata": {},
   "source": [
    "Arrays are mutable, meaning you can modify them after creation."
   ]
  },
  {
   "cell_type": "code",
   "execution_count": 12,
   "id": "5530cebb-409e-46f0-80be-11dc76322bd8",
   "metadata": {},
   "outputs": [],
   "source": [
    "# Changing an element\n",
    "colors = \"yellow\";   #Changing \"green\" to \"yellow\"\n",
    "#Adding a new element\n",
    "colorslength = (\"purple\");   # Adding \"purple\" to the end"
   ]
  },
  {
   "cell_type": "markdown",
   "id": "82d8ea90-4bf3-499c-8d3d-802f0197f4a1",
   "metadata": {},
   "source": [
    "# Array Properties and Methods\n",
    "***"
   ]
  },
  {
   "cell_type": "markdown",
   "id": "97a32214-1657-4778-8bd9-88d7cf2b9423",
   "metadata": {},
   "source": [
    "Arrays come with various properties and methods for manipulation and inspection. We will mostly need the length property and a variety of methods listed below. "
   ]
  },
  {
   "cell_type": "markdown",
   "id": "e4a8c0d7-4bf8-4125-991f-781c02f09ac6",
   "metadata": {},
   "source": [
    "Length Property "
   ]
  },
  {
   "cell_type": "markdown",
   "id": "9c6ff3e5-1ec1-4d93-a5ef-de6087e3dbef",
   "metadata": {},
   "source": [
    "The length property outputs the number of items in the array. "
   ]
  },
  {
   "cell_type": "code",
   "execution_count": 13,
   "id": "d8d4a620-76ee-4e11-a9bc-3769d22eadcb",
   "metadata": {},
   "outputs": [
    {
     "name": "stdout",
     "output_type": "stream",
     "text": [
      "purple\n"
     ]
    }
   ],
   "source": [
    "print(colorslength); # Output: the number of elements in colors array"
   ]
  },
  {
   "cell_type": "markdown",
   "id": "09108b62-2e8d-435b-92f3-769c09cf1d20",
   "metadata": {},
   "source": [
    "Commmon Array Methods"
   ]
  },
  {
   "cell_type": "code",
   "execution_count": 15,
   "id": "aeaa28cb-d15d-439e-b5f5-46bfab60cbd6",
   "metadata": {},
   "outputs": [
    {
     "ename": "SyntaxError",
     "evalue": "invalid syntax (964567938.py, line 11)",
     "output_type": "error",
     "traceback": [
      "\u001b[0;36m  Cell \u001b[0;32mIn[15], line 11\u001b[0;36m\u001b[0m\n\u001b[0;31m    let index = array.indexOf(element);\u001b[0m\n\u001b[0m        ^\u001b[0m\n\u001b[0;31mSyntaxError\u001b[0m\u001b[0;31m:\u001b[0m invalid syntax\n"
     ]
    }
   ],
   "source": [
    "# Adding an element to the end of the array \n",
    "\n",
    "array.push(element); \n",
    "# Removing the last element of the array \n",
    "array.pop(); \n",
    "# Adding an element to the beginning of the array \n",
    "array.unshift(element); \n",
    "# Removing the first element of the array \n",
    "array.shift(); \n",
    "# Finding the index of an element in the array \n",
    "let index = array.indexOf(element); \n",
    "# Removing elements from an array (starting index, number of elements to remove) array.splice(startIndex, deleteCount); \n",
    "# Adding elements to an array (starting index, number of elements to delete, eleme array.splice(startIndex, deleteCount, newElement1, newElement2, ...); // Creating a shallow copy of a part of an array (start index, end index)\n",
    "let newArray = array.slice(startIndex, endIndex);\n",
    "# Joining all elements of an array into a string (separator)\n",
    "let str = array.join(separator);\n",
    "# Reversing the elements in the array\n",
    "array.reverse();\n",
    "# Sorting the elements in the array\n",
    "array.sort();\n",
    "# Iterating over each element in the array\n",
    "array.forEach(function(element, index) {\n",
    "# Code to execute for each element\n",
    "});\n",
    "# Transforming elements in the array and creating a new array\n",
    "let newArray = array.map(function(element, index) {\n",
    "# Return new value for the element\n",
    "});\n",
    "# Filtering elements in the array based on a condition\n",
    "let filteredArray = array.filter(function(element, index) {\n",
    "# Return true to keep the element, false to filter it out\n",
    "});\n",
    "# Checking if any element in the array passes a test\n",
    "let result = array.some(function(element, index) {\n",
    "# Return true or false based on condition\n",
    "});\n",
    "# Checking if all elements in the array pass a test\n",
    "let allPass = array.every(function(element, index) {\n",
    "# Return true or false based on condition\n",
    "});\n",
    "# Reducing the array to a single value\n",
    "let result = array.reduce(function(accumulator, element, index) {\n",
    "# Return updated accumulator\n",
    "}, initialValue);\n",
    "# Finding the first element in the array that satisfies a condition\n",
    "let foundElement = array.find(function(element, index) {\n",
    "# Return true if this is the element you are looking for\n",
    "});\n",
    "# Finding the index of the first element in the array that satisfies a condition\n",
    "let foundIndex = array.findIndex(function(element, index) {\n",
    "# Return true if this is the element you are looking for\n",
    "});\n",
    "# Concatenating multiple arrays\n",
    "let newArray = array1.concat(array2, array3, ...);"
   ]
  },
  {
   "cell_type": "markdown",
   "id": "6b32466a-fb1b-4309-bf49-75b007347d09",
   "metadata": {},
   "source": [
    "# Looping Through Arrays\n",
    "***"
   ]
  },
  {
   "cell_type": "markdown",
   "id": "3c57c5d9-9ec6-466d-af66-1304ca963325",
   "metadata": {},
   "source": [
    "To iterate over an array, you can use loops like for , forEach , for...of . "
   ]
  },
  {
   "cell_type": "code",
   "execution_count": 16,
   "id": "55600f8b-a8f3-436e-abbf-d230a4fb2edc",
   "metadata": {},
   "outputs": [
    {
     "ename": "SyntaxError",
     "evalue": "invalid syntax (1511131401.py, line 2)",
     "output_type": "error",
     "traceback": [
      "\u001b[0;36m  Cell \u001b[0;32mIn[16], line 2\u001b[0;36m\u001b[0m\n\u001b[0;31m    colors.forEach(function(color) {\u001b[0m\n\u001b[0m                                   ^\u001b[0m\n\u001b[0;31mSyntaxError\u001b[0m\u001b[0;31m:\u001b[0m invalid syntax\n"
     ]
    }
   ],
   "source": [
    "# Using forEach \n",
    "colors.forEach(function(color) { \n",
    " console.log(color); \n",
    "}); \n",
    "# Using for...of \n",
    "for (let color of colors) { \n",
    " console.log(color); \n",
    "} \n"
   ]
  },
  {
   "cell_type": "markdown",
   "id": "cf2b9dcb-d0fb-408a-941e-9008fc02bc42",
   "metadata": {},
   "source": [
    "# Multidimensional Arrays\n",
    "***"
   ]
  },
  {
   "cell_type": "markdown",
   "id": "34453a22-bc23-45ab-af82-fbf2db43c6d9",
   "metadata": {
    "jupyter": {
     "source_hidden": true
    }
   },
   "source": [
    "Arrays can contain other arrays, creating a multidimensional array. "
   ]
  },
  {
   "cell_type": "code",
   "execution_count": null,
   "id": "f6c30bad-ebb0-4c1b-b252-07bed64d3afa",
   "metadata": {},
   "outputs": [],
   "source": [
    "let matrix = [ \n",
    " [1, 2, 3], \n",
    " [4, 5, 6], \n",
    " [7, 8, 9] \n",
    "]; \n",
    "console.log(matrix[1][2]); // Accessing the third element of the second array"
   ]
  },
  {
   "cell_type": "markdown",
   "id": "d0731bf5-e8c9-45d6-b641-c24064a4ae99",
   "metadata": {},
   "source": [
    "# Use Cases\n",
    "***"
   ]
  },
  {
   "cell_type": "markdown",
   "id": "bda3fc14-6f95-4de4-8831-81037970b7c7",
   "metadata": {},
   "source": [
    "Data Collection and Management: Arrays are ideal for collecting and managing sets of data, such as user inputs, records from a database, or any set of values. They provide a structured way to store and access this data. \n"
   ]
  },
  {
   "cell_type": "markdown",
   "id": "f418575e-53e1-4d59-89e1-a732b4b67147",
   "metadata": {},
   "source": [
    "Data Manipulation: You can perform various operations on arrays like sorting, filtering, and mapping to manipulate data. For instance, sorting user data based on criteria, filtering a list of products based on categories, or transforming data into a new format for presentation. "
   ]
  },
  {
   "cell_type": "markdown",
   "id": "32b3952d-a6f5-492a-9ac9-f4375c4df3e5",
   "metadata": {},
   "source": [
    "Mathematical Computations: Arrays can store numerical data and are useful in mathematical computations. You can use them for statistical analysis, such as calculating averages, sums, or other complex mathematical operations. "
   ]
  },
  {
   "cell_type": "markdown",
   "id": "35821a07-8c4a-4f45-8dd6-2afefb13f984",
   "metadata": {},
   "source": [
    "UI Components: In web development, arrays are often used to manage lists of UI elements. For example, displaying a list of items in a dropdown menu, a table of data, or a carousel of images.\n"
   ]
  },
  {
   "cell_type": "markdown",
   "id": "7bae3e57-a280-4016-bf61-8a1625ef7c03",
   "metadata": {},
   "source": [
    "Stacks and Queues Implementation: Arrays can be used to implement other data structures like stacks and queues. For example, using push and pop methods for stack operations, and shift and push for queue operations. "
   ]
  },
  {
   "cell_type": "markdown",
   "id": "c751f954-e6a2-4a7f-8de6-0f96da9a129d",
   "metadata": {},
   "source": [
    "Graphs and Trees Data Structure: Arrays can represent more complex data structures like graphs (as adjacency lists or matrices) and trees (like binary trees, where each element has references to its children). "
   ]
  },
  {
   "cell_type": "markdown",
   "id": "0f7a4f76-fa7d-4f8b-b8ca-a9db7d372068",
   "metadata": {},
   "source": [
    "Algorithms Implementation: Arrays are fundamental in implementing various algorithms, especially those involving sorting and searching. They are often the underlying data structure used to store data during these operations. "
   ]
  },
  {
   "cell_type": "markdown",
   "id": "2c5afa08-7706-4e3a-ad31-00990db89d68",
   "metadata": {},
   "source": [
    "Combining and Splitting Data: Using methods like concat, slice, and splice, arrays can be easily combined, partitioned, or reordered, which is useful in many applications like data processing or handling user-generated content. "
   ]
  },
  {
   "cell_type": "markdown",
   "id": "49c985c3-da27-4987-9603-5254e153f4a5",
   "metadata": {},
   "source": [
    "Temporary Storage: Arrays are useful as a temporary storage mechanism when processing or manipulating data. For example, storing the results of intermediate steps in a complex calculation or algorithm."
   ]
  },
  {
   "cell_type": "markdown",
   "id": "6e2d8c66-89cf-4acc-99d0-acd54fb17618",
   "metadata": {},
   "source": [
    "Multi-Dimensional Data: Arrays can store multi-dimensional data, making them useful for scenarios like representing matrices in mathematical computations, pixel data in images, or multi-dimensional maps in games or simulations. "
   ]
  },
  {
   "cell_type": "markdown",
   "id": "7ad4b676-8cd4-4801-92eb-9d8e0acf99d8",
   "metadata": {},
   "source": [
    "Functional Programming: Arrays in JavaScript work well with functional programming concepts, using methods like map, filter, reduce, which allow for operations on arrays without mutating them. \n"
   ]
  },
  {
   "cell_type": "markdown",
   "id": "e4d6fe52-f9bc-4867-b06a-b7dc2f0fdf8a",
   "metadata": {},
   "source": [
    "Batch Operations: Performing operations on multiple items at once, like updating a set of records or applying a function across multiple elements."
   ]
  },
  {
   "cell_type": "code",
   "execution_count": null,
   "id": "462f1e7d-0f1d-4a8b-b7f7-c900b3bda444",
   "metadata": {},
   "outputs": [],
   "source": []
  }
 ],
 "metadata": {
  "kernelspec": {
   "display_name": "Python 3 (ipykernel)",
   "language": "python",
   "name": "python3"
  },
  "language_info": {
   "codemirror_mode": {
    "name": "ipython",
    "version": 3
   },
   "file_extension": ".py",
   "mimetype": "text/x-python",
   "name": "python",
   "nbconvert_exporter": "python",
   "pygments_lexer": "ipython3",
   "version": "3.10.13"
  }
 },
 "nbformat": 4,
 "nbformat_minor": 5
}
