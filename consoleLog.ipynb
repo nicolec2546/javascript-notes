{
 "cells": [
  {
   "cell_type": "markdown",
   "id": "520f6824-e850-44f6-a474-aa99ee344dc8",
   "metadata": {},
   "source": [
    "# console.log();"
   ]
  },
  {
   "cell_type": "markdown",
   "id": "713c48af-a6cf-4e2d-b701-50ec001574be",
   "metadata": {},
   "source": [
    "Prints a new line in the console."
   ]
  },
  {
   "cell_type": "markdown",
   "id": "f7f857df-f7d8-4be4-8e02-7e1bf74cff24",
   "metadata": {},
   "source": [
    "Syntax: console.log(\"text or object\"); \n",
    "\n",
    "Example: "
   ]
  },
  {
   "cell_type": "code",
   "execution_count": 2,
   "id": "fab4c654-442e-44b5-a811-b3682c879a09",
   "metadata": {},
   "outputs": [
    {
     "name": "stdout",
     "output_type": "stream",
     "text": [
      "Hello, World!\n"
     ]
    }
   ],
   "source": [
    "console.log(\"Hello, World!\")"
   ]
  },
  {
   "cell_type": "code",
   "execution_count": null,
   "id": "939964da-b3df-4d47-ad5e-46970918c852",
   "metadata": {},
   "outputs": [],
   "source": []
  }
 ],
 "metadata": {
  "kernelspec": {
   "display_name": "JavaScript (Node.js)",
   "language": "javascript",
   "name": "javascript"
  },
  "language_info": {
   "file_extension": ".js",
   "mimetype": "application/javascript",
   "name": "javascript",
   "version": "20.8.1"
  }
 },
 "nbformat": 4,
 "nbformat_minor": 5
}
