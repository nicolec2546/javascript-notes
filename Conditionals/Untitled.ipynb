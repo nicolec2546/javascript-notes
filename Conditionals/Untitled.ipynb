{
 "cells": [
  {
   "cell_type": "markdown",
   "id": "5046ebf7-d079-47dc-a6f6-2c51b5bba476",
   "metadata": {},
   "source": [
    "# Conditional Statements in Javascript"
   ]
  },
  {
   "cell_type": "markdown",
   "id": "40f2ea7f-3555-43f6-83e1-f72b4985f213",
   "metadata": {},
   "source": [
    "***"
   ]
  },
  {
   "cell_type": "markdown",
   "id": "f9c6506b-8b5c-4da2-8bf2-0ecafd1c45d4",
   "metadata": {},
   "source": [
    "Document located here."
   ]
  },
  {
   "cell_type": "markdown",
   "id": "182cae30-d618-496a-a031-e03ea5da52e5",
   "metadata": {},
   "source": [
    "Conditional Statements: Conditional statements, also known as control flow statements,\r\n",
    "allow a program to make decisions and execute different blocks of code based on whether a\r\n",
    "certain condition is true or false. These conditions are evaluated to boolean values, which are\r\n",
    "either true or false. . These conditions are usually expressions that compare values using\r\n",
    "comparison operators (e.g.,= ==, !=, <, >, <=, >=). The result of such expressions is a\r\n",
    "boolean value, indicating the truth or falsity of the condition. This, in turn, determines which\r\n",
    "block of code will be executeds."
   ]
  },
  {
   "cell_type": "markdown",
   "id": "bd1f44fc-36db-4ee4-924c-d9707778065a",
   "metadata": {},
   "source": [
    "# Truthy Vs. Falsy Values"
   ]
  },
  {
   "cell_type": "markdown",
   "id": "76c25bae-d5be-47b6-9e8e-27acfa76d6c7",
   "metadata": {},
   "source": [
    "***"
   ]
  },
  {
   "cell_type": "markdown",
   "id": "fcd9cb12-27dd-48e8-a240-ad4fccb6f756",
   "metadata": {},
   "source": [
    "In JavaScript, values are not only categorized as true or false but also as \"truthy\" or \"falsy\".\r\n",
    "This distinction is important when evaluating conditions in conditional statements."
   ]
  },
  {
   "cell_type": "markdown",
   "id": "c801101d-ad2a-420c-8362-c895a17b5312",
   "metadata": {},
   "source": [
    "Falsy Values:\n",
    "false: The keyword false.\n",
    "0: The number zero.\n",
    "\"\" (Empty String): A string with no characters.\n",
    "null: Represents no value or no object.\n",
    "undefined: Indicates that a variable has not been assigned a value.\n",
    "NaN: Stands for \"Not-a-Number\"."
   ]
  },
  {
   "cell_type": "markdown",
   "id": "ca798cb1-546e-45f1-afff-a77757eddea5",
   "metadata": {},
   "source": [
    "Example:"
   ]
  },
  {
   "cell_type": "code",
   "execution_count": 4,
   "id": "d1491e57-05be-4d38-9c43-8e31a5e7cb36",
   "metadata": {},
   "outputs": [
    {
     "ename": "SyntaxError",
     "evalue": "invalid syntax (3045109476.py, line 1)",
     "output_type": "error",
     "traceback": [
      "\u001b[0;36m  Cell \u001b[0;32mIn[4], line 1\u001b[0;36m\u001b[0m\n\u001b[0;31m    if (0) {\u001b[0m\n\u001b[0m           ^\u001b[0m\n\u001b[0;31mSyntaxError\u001b[0m\u001b[0;31m:\u001b[0m invalid syntax\n"
     ]
    }
   ],
   "source": [
    "if (0) {\n",
    "console.log(\"This won't print, 0 is falsy\");\n",
    "} else {\n",
    "console.log(\"0 is falsy\");\n",
    "}\n",
    "if (null) {\n",
    "console.log(\"This won't print, null is falsy\");\n",
    "}"
   ]
  },
  {
   "cell_type": "markdown",
   "id": "5221baf3-a336-437a-896c-0ed4b7b9e73b",
   "metadata": {},
   "source": [
    "Truthy Values:\r\n",
    "\r\n",
    "In [12]:\r\n",
    "\r\n",
    "Any value that is not falsy is considered truthy. This includes true, all numbers (other than 0),\r\n",
    "all strings (including those with whitespace), and all objects and arrays (even empty ones)."
   ]
  },
  {
   "cell_type": "markdown",
   "id": "37492ad2-1c78-4482-abba-926c0186e1af",
   "metadata": {},
   "source": [
    "if (42) {\n",
    "console.log(\"42 is truthy\");\n",
    "}\n",
    "if (\"Hello\") {\n",
    "console.log(\"Non-empty string is truthy\");\n",
    "}\n",
    "if (\" \") {\n",
    "console.log(\"Whitespace-only string is also truthy\");\n",
    "}\n",
    "if ([]) {\n",
    "console.log(\"An empty array is truthy\");\n",
    "}\n",
    "if ({}) {\n",
    "console.log(\"An empty object is truthy\");\n",
    "}"
   ]
  },
  {
   "cell_type": "markdown",
   "id": "d21e4b10-24e3-46be-8dea-9688f62b5b01",
   "metadata": {},
   "source": [
    "# If..Else Statements"
   ]
  },
  {
   "cell_type": "markdown",
   "id": "0331f673-51a2-4d69-a38b-8d5ec9f41685",
   "metadata": {},
   "source": [
    "***"
   ]
  },
  {
   "cell_type": "markdown",
   "id": "514c69d9-94f3-4695-9abf-4eb985c71433",
   "metadata": {},
   "source": [
    "An if..else statement will execute a statement if the specified condition is truthy. This is the\n",
    "most basic conditional statment, it gives your program a bit more flexibility and decision\n",
    "making. The steps to making a if statement are below:"
   ]
  },
  {
   "cell_type": "markdown",
   "id": "ef8cac6b-db81-4835-8e9a-ed77ea60a347",
   "metadata": {},
   "source": [
    "1. keyword if followed by paranthesis.\n",
    "2. A conditiona to test in paranthesis, usually using comparison operators.\n",
    "3. A set of curly braces, inside is the code that runs if true.\n",
    "4. The else keyword.\n",
    "5. Another set of curly braces, inside is the code that runs if false."
   ]
  },
  {
   "cell_type": "markdown",
   "id": "b52b1d4d-31a6-4a3a-9112-b3c21ce84755",
   "metadata": {},
   "source": [
    "Note: The else is optional. You can create just a basic if statement without an else if needed."
   ]
  },
  {
   "cell_type": "markdown",
   "id": "6473f1bd-a954-49ac-bdef-c3cc3b64c6e6",
   "metadata": {},
   "source": [
    "Syntax:"
   ]
  },
  {
   "cell_type": "code",
   "execution_count": 7,
   "id": "8a09d427-56eb-4c27-bf4c-929d8f976d4c",
   "metadata": {},
   "outputs": [
    {
     "ename": "SyntaxError",
     "evalue": "invalid syntax (3909590424.py, line 1)",
     "output_type": "error",
     "traceback": [
      "\u001b[0;36m  Cell \u001b[0;32mIn[7], line 1\u001b[0;36m\u001b[0m\n\u001b[0;31m    let myAge = 2;\u001b[0m\n\u001b[0m        ^\u001b[0m\n\u001b[0;31mSyntaxError\u001b[0m\u001b[0;31m:\u001b[0m invalid syntax\n"
     ]
    }
   ],
   "source": [
    "let myAge = 2;\n",
    "let yourAge = 2;\n",
    "if (myAge == yourAge){\n",
    "console.log(\"We are the same age\");\n",
    "}"
   ]
  },
  {
   "cell_type": "markdown",
   "id": "2ddd2fde-c6fc-486d-a809-940a38e6020a",
   "metadata": {},
   "source": [
    "Syntax:"
   ]
  },
  {
   "cell_type": "code",
   "execution_count": 8,
   "id": "4275747d-4cae-48e8-a0cd-c5c21407dbd6",
   "metadata": {},
   "outputs": [
    {
     "ename": "SyntaxError",
     "evalue": "invalid syntax (3725188734.py, line 1)",
     "output_type": "error",
     "traceback": [
      "\u001b[0;36m  Cell \u001b[0;32mIn[8], line 1\u001b[0;36m\u001b[0m\n\u001b[0;31m    if ('condition') {\u001b[0m\n\u001b[0m                     ^\u001b[0m\n\u001b[0;31mSyntaxError\u001b[0m\u001b[0;31m:\u001b[0m invalid syntax\n"
     ]
    }
   ],
   "source": [
    "if ('condition') {\n",
    "//Code here runs if the condition is true.\n",
    "} else {\n",
    "//If the condition is false, run different code here\n",
    "}"
   ]
  },
  {
   "cell_type": "markdown",
   "id": "05423105-efb5-4435-b074-6e224b446ad3",
   "metadata": {},
   "source": [
    "Example:"
   ]
  },
  {
   "cell_type": "code",
   "execution_count": 9,
   "id": "1ec05249-f18e-4e10-9229-df09cb04acea",
   "metadata": {},
   "outputs": [
    {
     "ename": "SyntaxError",
     "evalue": "invalid syntax (672681362.py, line 1)",
     "output_type": "error",
     "traceback": [
      "\u001b[0;36m  Cell \u001b[0;32mIn[9], line 1\u001b[0;36m\u001b[0m\n\u001b[0;31m    let numOfApples = 10;\u001b[0m\n\u001b[0m        ^\u001b[0m\n\u001b[0;31mSyntaxError\u001b[0m\u001b[0;31m:\u001b[0m invalid syntax\n"
     ]
    }
   ],
   "source": [
    "let numOfApples = 10;\n",
    "let numOfPeaches = 12;\n",
    "if (numOfApples > numOfPeaches) {\n",
    "console.log (\"You have more apples than peaches.\");\n",
    "} else {\n",
    "console.log (\"You have more peaches than apples.\");\n",
    "}"
   ]
  },
  {
   "cell_type": "markdown",
   "id": "b6ccc89b-d09b-47d8-919d-cb8f2f3039f1",
   "metadata": {},
   "source": [
    "You have more peaches than apples."
   ]
  },
  {
   "cell_type": "code",
   "execution_count": 10,
   "id": "f9a2b576-d4e1-4e7a-a9bc-6e9d065533bf",
   "metadata": {},
   "outputs": [
    {
     "ename": "SyntaxError",
     "evalue": "invalid syntax (3743371795.py, line 1)",
     "output_type": "error",
     "traceback": [
      "\u001b[0;36m  Cell \u001b[0;32mIn[10], line 1\u001b[0;36m\u001b[0m\n\u001b[0;31m    let shoppingDone = false;\u001b[0m\n\u001b[0m        ^\u001b[0m\n\u001b[0;31mSyntaxError\u001b[0m\u001b[0;31m:\u001b[0m invalid syntax\n"
     ]
    }
   ],
   "source": [
    "let shoppingDone = false;\n",
    "let childsAllowance;\n",
    "if (shoppingDone === true) {\n",
    "childsAllowance = 10;\n",
    "} else {\n",
    "childsAllowance = 5;\n",
    "}"
   ]
  },
  {
   "cell_type": "markdown",
   "id": "400e33e6-fd85-4b20-a895-801347fbee80",
   "metadata": {},
   "source": [
    "# Else If"
   ]
  },
  {
   "cell_type": "markdown",
   "id": "b45cb555-240a-4538-ae6e-2a3bc8b8a4c3",
   "metadata": {},
   "source": [
    "***"
   ]
  },
  {
   "cell_type": "markdown",
   "id": "cc60cc1b-12c9-40d2-b5dc-8b4a669777ca",
   "metadata": {},
   "source": [
    "The last example provided us with two choices, or outcomes — but what if we want more\r\n",
    "than two?\r\n",
    "In [2]: In [2]: In [1]: In [2]: Out[2]:\r\n",
    "\r\n",
    "There is a way to chain on extra choices/outcomes to your if...else — using else if .\r\n",
    "Each extra choice requires an additional block to put in between if () { } and else {\r\n",
    "} .\r\n",
    "You can have as many different options in a conditional statement using else if ."
   ]
  },
  {
   "cell_type": "markdown",
   "id": "e554f370-b5b5-4ee9-989e-caf328ee0725",
   "metadata": {},
   "source": [
    "Syntax:"
   ]
  },
  {
   "cell_type": "code",
   "execution_count": 11,
   "id": "3923df2b-e021-4e4a-abff-623bdf6d6abb",
   "metadata": {},
   "outputs": [
    {
     "ename": "SyntaxError",
     "evalue": "invalid syntax (1744465939.py, line 1)",
     "output_type": "error",
     "traceback": [
      "\u001b[0;36m  Cell \u001b[0;32mIn[11], line 1\u001b[0;36m\u001b[0m\n\u001b[0;31m    if ('checks condition 1') {\u001b[0m\n\u001b[0m                              ^\u001b[0m\n\u001b[0;31mSyntaxError\u001b[0m\u001b[0;31m:\u001b[0m invalid syntax\n"
     ]
    }
   ],
   "source": [
    "if ('checks condition 1') {\n",
    "//Code here runs if the condition is true.\n",
    "} else if ('checks condition 2') {\n",
    "//Code here runs if the condition1 is false and condition 2 is true.\n",
    "} else if ('checks condition 3'){\n",
    "//Code here runs if the conditional is false and conditional 3 is true.\n",
    "} else{\n",
    "//Code here runs if all conditionals above are false.\n",
    "}"
   ]
  },
  {
   "cell_type": "markdown",
   "id": "a6c3fcd1-2227-4492-b12d-abe73cc95747",
   "metadata": {},
   "source": [
    "Example:"
   ]
  },
  {
   "cell_type": "code",
   "execution_count": 12,
   "id": "8a9b6077-d854-40c7-9f31-4dac2105b044",
   "metadata": {},
   "outputs": [
    {
     "ename": "SyntaxError",
     "evalue": "invalid syntax (3083878502.py, line 2)",
     "output_type": "error",
     "traceback": [
      "\u001b[0;36m  Cell \u001b[0;32mIn[12], line 2\u001b[0;36m\u001b[0m\n\u001b[0;31m    let sarahsAge = 12;\u001b[0m\n\u001b[0m        ^\u001b[0m\n\u001b[0;31mSyntaxError\u001b[0m\u001b[0;31m:\u001b[0m invalid syntax\n"
     ]
    }
   ],
   "source": [
    "tomsAge = 10;\n",
    "let sarahsAge = 12;\n",
    "let arisAge = 15;\n",
    "if (tomsAge == sarahsAge){\n",
    "console.log(\"Tom and Sarah are the same age\");\n",
    "} else if (tomsAge == arisAge){\n",
    "console.log(\"Tom and Ari are the same age\");\n",
    "} else{\n",
    "console.log(\"Tom is not the same age as anyone\");\n",
    "}"
   ]
  },
  {
   "cell_type": "markdown",
   "id": "3e123c8c-47db-45f4-b2a1-99aeadfb7486",
   "metadata": {},
   "source": [
    "# Combining Logical Operators with Conditionals"
   ]
  },
  {
   "cell_type": "markdown",
   "id": "d2dc7c15-ec0e-4ad5-b406-ed212c816124",
   "metadata": {},
   "source": [
    "***"
   ]
  },
  {
   "cell_type": "markdown",
   "id": "73e35e52-cc72-4eeb-8260-99e2d1e90347",
   "metadata": {},
   "source": [
    "Logical Operators: Used to make decisions.\n",
    "Example\n",
    "&& (and)\n",
    "|| (or)\n",
    "! (Not)"
   ]
  },
  {
   "cell_type": "markdown",
   "id": "c8fa1757-3c44-4c75-a484-74101fb2cd03",
   "metadata": {},
   "source": [
    "We can combine logical operators with our conditional statements to make smarter programs"
   ]
  },
  {
   "cell_type": "markdown",
   "id": "dedd8d24-0cf7-48f0-89f1-811424e8ad95",
   "metadata": {},
   "source": [
    "Example:"
   ]
  },
  {
   "cell_type": "code",
   "execution_count": 13,
   "id": "afe4e6cc-a1c2-4a54-8223-fc913a662629",
   "metadata": {},
   "outputs": [
    {
     "ename": "SyntaxError",
     "evalue": "invalid syntax (3787324040.py, line 1)",
     "output_type": "error",
     "traceback": [
      "\u001b[0;36m  Cell \u001b[0;32mIn[13], line 1\u001b[0;36m\u001b[0m\n\u001b[0;31m    let tomAge = 10;\u001b[0m\n\u001b[0m        ^\u001b[0m\n\u001b[0;31mSyntaxError\u001b[0m\u001b[0;31m:\u001b[0m invalid syntax\n"
     ]
    }
   ],
   "source": [
    "let tomAge = 10;\n",
    "let sarahAge = 12;\n",
    "let ariAge = 15;\n",
    "if (tomsAge > 10 && sarahsAge > 10 && arisAge > 10) {\n",
    "console.log(\"All of them are older than 10\");\n",
    "} else if (tomsAge > 10 || sarahsAge > 10 || arisAge > 10) {\n",
    "console.log(\"At least one of them is older than 10\");\n",
    "} else {\n",
    "console.log(\"None of them are older than 10\");\n",
    "}"
   ]
  },
  {
   "cell_type": "code",
   "execution_count": null,
   "id": "5499294b-65f8-438a-8891-3ece0efdb233",
   "metadata": {},
   "outputs": [],
   "source": []
  }
 ],
 "metadata": {
  "kernelspec": {
   "display_name": "Python 3 (ipykernel)",
   "language": "python",
   "name": "python3"
  },
  "language_info": {
   "codemirror_mode": {
    "name": "ipython",
    "version": 3
   },
   "file_extension": ".py",
   "mimetype": "text/x-python",
   "name": "python",
   "nbconvert_exporter": "python",
   "pygments_lexer": "ipython3",
   "version": "3.10.8"
  }
 },
 "nbformat": 4,
 "nbformat_minor": 5
}
