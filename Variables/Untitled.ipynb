{
 "cells": [
  {
   "cell_type": "markdown",
   "id": "601908fd-4dc6-4223-91c8-28f54e42376d",
   "metadata": {},
   "source": [
    "# Variables in JavaScript"
   ]
  },
  {
   "cell_type": "markdown",
   "id": "d6034545-6876-470b-995b-98abc3c341ed",
   "metadata": {},
   "source": [
    "Variables: A container for storing values. A variable has a name and contains a value. You \"Store\" a variable in the memory and it allows you to access, modify, and manipulate that value throughout your program. Variables allow us to write programs in a generic manner, allowing us to modify data without needing to modify the code structure."
   ]
  },
  {
   "cell_type": "markdown",
   "id": "2d7a32be-164b-46a3-944a-68fee3a2d703",
   "metadata": {},
   "source": [
    "You can store many different data types in variables: Strings, Ints, booleans, floats, doubles, and more."
   ]
  },
  {
   "cell_type": "markdown",
   "id": "760f3480-25c1-425e-bdf6-8044cb591110",
   "metadata": {},
   "source": [
    "# Variable Declaration & Initialization"
   ]
  },
  {
   "cell_type": "markdown",
   "id": "044d2aca-937d-423e-b972-a3630843b3f3",
   "metadata": {},
   "source": [
    "***"
   ]
  },
  {
   "cell_type": "markdown",
   "id": "762377bb-99e3-44b2-b34d-ba61ff48c0bf",
   "metadata": {},
   "source": [
    "Variables can be declared & initialize at the same or seperately, in order to utilize the variable, both must happen."
   ]
  },
  {
   "cell_type": "markdown",
   "id": "9acaef34-87c0-4a91-b7b4-3204e3c52a7a",
   "metadata": {},
   "source": [
    "Variable Declaration: This is the first step to creating a variable, it tells your program that we want to create a variable, in this step the variable has no value. Must declare with var, let or CONST keywords. Var is outdated, we do not use it, you will see it in legacy code as well as in code.org."
   ]
  },
  {
   "cell_type": "markdown",
   "id": "c7f48deb-3005-42dc-9e5e-dc589db6eb3d",
   "metadata": {},
   "source": [
    "Example:"
   ]
  },
  {
   "cell_type": "markdown",
   "id": "99d420f1-cb62-45e0-9798-0cdfc81e82ef",
   "metadata": {},
   "source": [
    "let age;"
   ]
  },
  {
   "cell_type": "markdown",
   "id": "55fbdb26-4695-4e60-aa9a-b36e32a693fb",
   "metadata": {},
   "source": [
    "var name;"
   ]
  },
  {
   "cell_type": "markdown",
   "id": "5ad32b8b-dfb7-4bbb-a937-bf3aac8e4008",
   "metadata": {},
   "source": [
    "CONST birthday;"
   ]
  },
  {
   "cell_type": "markdown",
   "id": "baf49a6b-6618-4367-a71e-43159b615a61",
   "metadata": {},
   "source": [
    "Variable Initialization: This is where you give a variable a value for the first time. Variable must be declared before initializing."
   ]
  },
  {
   "cell_type": "markdown",
   "id": "b09c3476-2609-48c4-a562-0a792768bb6a",
   "metadata": {},
   "source": [
    "Example:"
   ]
  },
  {
   "cell_type": "markdown",
   "id": "f995ec49-88db-40ed-a82e-10648c5ecdd7",
   "metadata": {},
   "source": [
    "age = 25;"
   ]
  },
  {
   "cell_type": "markdown",
   "id": "ce4f48df-df24-45bb-929a-5eff61c13c65",
   "metadata": {},
   "source": [
    "name = \"Cooper\";"
   ]
  },
  {
   "cell_type": "markdown",
   "id": "896e080a-aca9-45ca-af2c-21e33e30e981",
   "metadata": {},
   "source": [
    "birthday = 2000;"
   ]
  },
  {
   "cell_type": "markdown",
   "id": "1e4cd1c1-d127-4472-81d0-f9574c79b6ea",
   "metadata": {},
   "source": [
    "Variable Definition: Variables can be declared and initialized at the same time. We call this \"Variable Definition\"."
   ]
  },
  {
   "cell_type": "markdown",
   "id": "34da3fd9-9672-48b8-9a38-4f99cc9a13bd",
   "metadata": {},
   "source": [
    "Example:"
   ]
  },
  {
   "cell_type": "markdown",
   "id": "070278e2-633f-41f0-a0f9-8f7da90ccb0e",
   "metadata": {},
   "source": [
    "let age = 20;"
   ]
  },
  {
   "cell_type": "markdown",
   "id": "704f715b-58bd-4179-aabc-afcb4e9814d5",
   "metadata": {},
   "source": [
    "var name = \"Cooper\";"
   ]
  },
  {
   "cell_type": "markdown",
   "id": "a5fb676e-cea2-4bf3-9479-bb752ce323bb",
   "metadata": {},
   "source": [
    "CONST birthday = 2002;"
   ]
  },
  {
   "cell_type": "markdown",
   "id": "b3d52806-3de7-4aae-b70b-beb71f3cd62a",
   "metadata": {},
   "source": [
    "This equal sign is known as the assignment operator in most programming languages. You must use this to creat variables."
   ]
  },
  {
   "cell_type": "markdown",
   "id": "fb096ec1-419f-461f-84e0-b2ddf7d316ee",
   "metadata": {},
   "source": [
    "# Naming Variables"
   ]
  },
  {
   "cell_type": "markdown",
   "id": "ade7dfa9-2969-469a-9030-8ff502cf182d",
   "metadata": {},
   "source": [
    "***"
   ]
  },
  {
   "cell_type": "markdown",
   "id": "66bafc6d-ac8d-4c22-9beb-9d8e81798d69",
   "metadata": {},
   "source": [
    "Variable names are extremely important, naming conventions vary between languages, here are some tips:"
   ]
  },
  {
   "cell_type": "markdown",
   "id": "c788ae94-5940-479a-88b0-383dccdbfdca",
   "metadata": {},
   "source": [
    "1. Use descriptive names, that match the purpose of the variable."
   ]
  },
  {
   "cell_type": "markdown",
   "id": "60df2077-a091-4b80-8032-886e4f15d33d",
   "metadata": {},
   "source": [
    "2. Use CamelCase when writing multi-word variables (Javascript best practice)"
   ]
  },
  {
   "cell_type": "markdown",
   "id": "92d4ce9b-b06c-4b04-8e97-45b5b0f0e1ed",
   "metadata": {},
   "source": [
    "3. Avoid symbols, and \"reserved\" words, such as: let, for, if, etc."
   ]
  },
  {
   "cell_type": "markdown",
   "id": "76aca4ae-57dd-4f82-9468-121ddb20d9e3",
   "metadata": {},
   "source": [
    "Never put spaces in variables, a variables can never just be an integar"
   ]
  },
  {
   "cell_type": "markdown",
   "id": "b065f6b0-40d4-452e-9e31-cc098c1c075b",
   "metadata": {},
   "source": [
    "Good Examples:"
   ]
  },
  {
   "cell_type": "markdown",
   "id": "e343e2bd-615a-4864-83f1-162d001fd675",
   "metadata": {},
   "source": [
    "let firstName = \"Thomas\";"
   ]
  },
  {
   "cell_type": "markdown",
   "id": "2ef2d5c6-36c5-4c21-ab47-f83e728c5ffb",
   "metadata": {},
   "source": [
    "let numberOfLives = 9;"
   ]
  },
  {
   "cell_type": "markdown",
   "id": "6192f102-9cd7-4f52-af5a-c1c2d9c5b22b",
   "metadata": {},
   "source": [
    "CONST temp = 98;"
   ]
  },
  {
   "cell_type": "markdown",
   "id": "c8a8b8c1-bae9-4bf2-be2c-d6d94ffc511b",
   "metadata": {},
   "source": [
    "let messageOfTheDay = \"Hello there, welcome to CSP\";"
   ]
  },
  {
   "cell_type": "markdown",
   "id": "c3778714-d031-44ad-a672-9466cc976f30",
   "metadata": {},
   "source": [
    "Bad Examples:"
   ]
  },
  {
   "cell_type": "markdown",
   "id": "997aa9ed-d2a3-4975-80d6-250f742bb50d",
   "metadata": {},
   "source": [
    "let 2 = 9;"
   ]
  },
  {
   "cell_type": "markdown",
   "id": "fc72b22e-8dc6-40d9-b5cb-9841fa4ff8d6",
   "metadata": {},
   "source": [
    "let N!M@ = \"John\";"
   ]
  },
  {
   "cell_type": "markdown",
   "id": "e8c8a912-f378-41f9-af69-69b4653d629c",
   "metadata": {},
   "source": [
    "let birthday month = \"December\";"
   ]
  },
  {
   "cell_type": "markdown",
   "id": "421b5423-7385-4aa7-bd35-84f69c2f55a9",
   "metadata": {},
   "source": [
    "# Using the console.log(); method with Variables"
   ]
  },
  {
   "cell_type": "markdown",
   "id": "8ec6721b-15c4-434a-908d-e35f45a143ce",
   "metadata": {},
   "source": [
    "***"
   ]
  },
  {
   "cell_type": "markdown",
   "id": "3ec0f903-f358-4e88-92ce-61ae8a440965",
   "metadata": {},
   "source": [
    "We can combine our previous knowledge of the console log method with variables to start to build actual programs."
   ]
  },
  {
   "cell_type": "markdown",
   "id": "8e33852f-6daa-4d7f-b448-9145eb2f49cb",
   "metadata": {},
   "source": [
    "Let start be defining a variable:"
   ]
  },
  {
   "cell_type": "code",
   "execution_count": 17,
   "id": "e4b0e987-30c1-4efa-b0e6-03c38d7c9ada",
   "metadata": {},
   "outputs": [],
   "source": [
    "let parentsAge = 36;"
   ]
  },
  {
   "cell_type": "markdown",
   "id": "35fa5970-d88e-4f6d-9210-eaca7a556cfd",
   "metadata": {},
   "source": [
    "Now lets print the age variable to the console. NOTE: In Jupyter we get the output below our cell. If you want to see how this looks in a coding enviornment you can try this is VSCode."
   ]
  },
  {
   "cell_type": "code",
   "execution_count": 18,
   "id": "4859ae90-fe28-4b61-a7fa-a828c970323d",
   "metadata": {},
   "outputs": [
    {
     "name": "stdout",
     "output_type": "stream",
     "text": [
      "36\n"
     ]
    }
   ],
   "source": [
    "console.log(parentsAge);"
   ]
  },
  {
   "cell_type": "markdown",
   "id": "16c2683f-0616-4eab-8d4b-b76730d7b9c9",
   "metadata": {},
   "source": [
    "See above, when you run the cell (Shift + Enter) the output is not the variable name, but the information stored inside the variable. Below are more examples:"
   ]
  },
  {
   "cell_type": "code",
   "execution_count": 19,
   "id": "85445c70-2c8d-4533-88f4-8e8944fa12c6",
   "metadata": {},
   "outputs": [],
   "source": [
    "let birthdayCakeFlavor = \"chocolate\";"
   ]
  },
  {
   "cell_type": "code",
   "execution_count": 20,
   "id": "3a3d950c-c707-41ec-9bf9-d635020348a7",
   "metadata": {},
   "outputs": [
    {
     "name": "stdout",
     "output_type": "stream",
     "text": [
      "chocolate\n"
     ]
    }
   ],
   "source": [
    "console.log(birthdayCakeFlavor);"
   ]
  },
  {
   "cell_type": "markdown",
   "id": "f243088f-762b-4c12-866f-dc017233d360",
   "metadata": {},
   "source": [
    "# Operators"
   ]
  },
  {
   "cell_type": "markdown",
   "id": "982170b6-f2b3-4304-b682-acb9227268a3",
   "metadata": {},
   "source": [
    "***"
   ]
  },
  {
   "cell_type": "markdown",
   "id": "650dad9c-0476-439f-849e-3cb54a65fabd",
   "metadata": {},
   "source": [
    "Operators are crucial for writing programming language. Operators are special smbols or keywords that can perform operations. Below are the most common types:"
   ]
  },
  {
   "cell_type": "markdown",
   "id": "c1d5377b-7422-4216-a4c2-9f965760c3c5",
   "metadata": {},
   "source": [
    "Aritmetic Operators: Use to perform basic math"
   ]
  },
  {
   "cell_type": "markdown",
   "id": "46ab080c-771f-4a7a-8a09-3e8695489159",
   "metadata": {},
   "source": [
    "Example"
   ]
  },
  {
   "cell_type": "raw",
   "id": "f920bcf3-9d6b-459b-a71d-2dc03bf1d6b4",
   "metadata": {},
   "source": [
    "+ (Add)"
   ]
  },
  {
   "cell_type": "markdown",
   "id": "c81e0df0-4ff1-46e1-afa5-c5acab4020a5",
   "metadata": {},
   "source": [
    "- (Subtract)"
   ]
  },
  {
   "cell_type": "code",
   "execution_count": null,
   "id": "53190396-08e7-49ee-9359-14f88bb21065",
   "metadata": {},
   "outputs": [],
   "source": [
    "* (Multiply)"
   ]
  },
  {
   "cell_type": "code",
   "execution_count": null,
   "id": "a6b5844c-abc0-49af-9c01-5c8a0164500c",
   "metadata": {},
   "outputs": [],
   "source": [
    "/ (Divide)"
   ]
  },
  {
   "cell_type": "code",
   "execution_count": null,
   "id": "739d4d31-05dd-48c3-8e31-c14e9e224108",
   "metadata": {},
   "outputs": [],
   "source": [
    "% (Modulo)"
   ]
  },
  {
   "cell_type": "markdown",
   "id": "4295c57c-d0e1-474d-b1d1-2f0669b8931c",
   "metadata": {},
   "source": [
    "Comparison Operators: Used to compare values."
   ]
  },
  {
   "cell_type": "markdown",
   "id": "c6e566b0-27c5-45ea-b1c2-e369cc319b43",
   "metadata": {},
   "source": [
    "Example"
   ]
  },
  {
   "cell_type": "code",
   "execution_count": null,
   "id": "06e7f0f7-2bef-4a60-b203-545cf75f52cf",
   "metadata": {},
   "outputs": [],
   "source": [
    "=== (equal)"
   ]
  },
  {
   "cell_type": "code",
   "execution_count": null,
   "id": "fd12f521-25f7-45a9-88fd-12a926337b14",
   "metadata": {},
   "outputs": [],
   "source": [
    "!= (Not Equal)"
   ]
  },
  {
   "cell_type": "code",
   "execution_count": null,
   "id": "fcbd30ef-dd08-416d-8024-451a3abb5f78",
   "metadata": {},
   "outputs": [],
   "source": [
    "< (Less Than)"
   ]
  },
  {
   "cell_type": "code",
   "execution_count": null,
   "id": "2e3f8f49-097b-4964-96a2-f41071d3c808",
   "metadata": {},
   "outputs": [],
   "source": [
    "> (Greater Than)"
   ]
  },
  {
   "cell_type": "code",
   "execution_count": null,
   "id": "5779e0f4-a161-42fd-ba67-824ee8d6930d",
   "metadata": {},
   "outputs": [],
   "source": [
    "<= (less than or equal)"
   ]
  },
  {
   "cell_type": "code",
   "execution_count": null,
   "id": "6040945e-b49a-4037-8e79-0b27906935ef",
   "metadata": {},
   "outputs": [],
   "source": [
    ">= (Greater than or equal)"
   ]
  },
  {
   "cell_type": "markdown",
   "id": "e24ecdcb-820e-4ea8-9ce5-f6655aa572bb",
   "metadata": {},
   "source": [
    "Logical Operators: Use to make decisions."
   ]
  },
  {
   "cell_type": "markdown",
   "id": "718119de-a8c1-49f4-b87e-d123913fcc41",
   "metadata": {},
   "source": [
    "Example"
   ]
  },
  {
   "cell_type": "code",
   "execution_count": null,
   "id": "cff0cfcf-1b82-4071-8dd0-ff56ec34ad63",
   "metadata": {},
   "outputs": [],
   "source": [
    "&& (and)"
   ]
  },
  {
   "cell_type": "code",
   "execution_count": null,
   "id": "e67e7c57-6517-4e72-8289-f5b4a8b3bef7",
   "metadata": {},
   "outputs": [],
   "source": [
    "|| (or)"
   ]
  },
  {
   "cell_type": "code",
   "execution_count": null,
   "id": "62a45a98-3fea-4157-90e8-efb0dccbec73",
   "metadata": {},
   "outputs": [],
   "source": [
    "! (not)"
   ]
  },
  {
   "cell_type": "markdown",
   "id": "34df3101-9853-4435-9b88-c59934d7218e",
   "metadata": {},
   "source": [
    "Assignment Operators: Use in variables to assign value."
   ]
  },
  {
   "cell_type": "markdown",
   "id": "965b211c-896d-4703-bc73-c43b3c414d95",
   "metadata": {},
   "source": [
    "Example"
   ]
  },
  {
   "cell_type": "code",
   "execution_count": null,
   "id": "f1a4f88d-8ad6-41eb-8705-2a4bb2d951f6",
   "metadata": {},
   "outputs": [],
   "source": [
    "= (Assign)"
   ]
  },
  {
   "cell_type": "code",
   "execution_count": null,
   "id": "021247e8-f7bd-484d-b65c-4da29222efa0",
   "metadata": {},
   "outputs": [],
   "source": [
    "+= (Add and assign)"
   ]
  },
  {
   "cell_type": "code",
   "execution_count": null,
   "id": "8a407207-a0dc-43cf-89e2-8f90c3f25771",
   "metadata": {},
   "outputs": [],
   "source": [
    "-= (Subtract and assign)"
   ]
  },
  {
   "cell_type": "markdown",
   "id": "344b2290-89f7-4aa3-a413-db0b0413c819",
   "metadata": {},
   "source": [
    "String Operators: Use to concetenate (combine) two strings"
   ]
  },
  {
   "cell_type": "markdown",
   "id": "b34001c4-ef60-4536-861b-8b39a2a466b6",
   "metadata": {},
   "source": [
    "Example"
   ]
  },
  {
   "cell_type": "raw",
   "id": "9fe8421a-865c-4b3a-ba7f-0f4bf28b5869",
   "metadata": {},
   "source": [
    "+ (concatenate)"
   ]
  },
  {
   "cell_type": "markdown",
   "id": "03d469ac-1361-40fe-a0b8-430ba7ef940e",
   "metadata": {},
   "source": [
    "# Using Operators"
   ]
  },
  {
   "cell_type": "markdown",
   "id": "3d6f5da4-46de-4a16-917b-536ca9354866",
   "metadata": {},
   "source": [
    "***"
   ]
  },
  {
   "cell_type": "markdown",
   "id": "a6d97152-0dd6-4f92-b773-dd0fbd725fb2",
   "metadata": {},
   "source": [
    "Operators are simple to use within variables. They can be used outside o ariables as well, but lets start by using them inside variables. We will use the same processs as above, we will define a variable and then print to the console. However we will now utilize operpators to make more complex variables."
   ]
  },
  {
   "cell_type": "code",
   "execution_count": 25,
   "id": "9ce90031-8175-4f3a-9d6b-81f82d006f5b",
   "metadata": {},
   "outputs": [],
   "source": [
    "let areaOfRectangle = 4 * 5;"
   ]
  },
  {
   "cell_type": "code",
   "execution_count": 26,
   "id": "8a1312f8-d79b-4a59-b2df-6c2fa5bac1db",
   "metadata": {},
   "outputs": [
    {
     "name": "stdout",
     "output_type": "stream",
     "text": [
      "20\n"
     ]
    }
   ],
   "source": [
    "console.log(areaOfRectangle);"
   ]
  },
  {
   "cell_type": "markdown",
   "id": "acca84de-5bdc-432a-a2f2-d96c704b9f56",
   "metadata": {},
   "source": [
    "We can use the concatenation (and the '+' operator) to make better print statements in the console. Note the space between the colon and the last quotation mark:"
   ]
  },
  {
   "cell_type": "code",
   "execution_count": 27,
   "id": "f6ecf878-01cb-4025-a200-a13538b59bb3",
   "metadata": {},
   "outputs": [],
   "source": [
    "let areaOfSquare = 7 * 7;"
   ]
  },
  {
   "cell_type": "code",
   "execution_count": 28,
   "id": "6216add8-8bd3-42dd-9b6d-40667480a419",
   "metadata": {},
   "outputs": [
    {
     "name": "stdout",
     "output_type": "stream",
     "text": [
      "The area of a 7 inch square is: 49\n"
     ]
    }
   ],
   "source": [
    "console.log ('The area of a 7 inch square is: '+ areaOfSquare);"
   ]
  },
  {
   "cell_type": "markdown",
   "id": "7f13dd9a-d0fe-4a4c-a41a-238f8f9c2b3d",
   "metadata": {},
   "source": [
    "You can concatenate words too, however lets examine what happens:"
   ]
  },
  {
   "cell_type": "code",
   "execution_count": 33,
   "id": "645c4909-e342-4c03-90c2-e8ff7ad156eb",
   "metadata": {},
   "outputs": [],
   "source": [
    "let firstName = \"John\";\n",
    "let lastName = \"Doe\";"
   ]
  },
  {
   "cell_type": "code",
   "execution_count": 34,
   "id": "98d59878-caf4-408a-a7a4-91c880fd9701",
   "metadata": {},
   "outputs": [
    {
     "name": "stdout",
     "output_type": "stream",
     "text": [
      "His name is JohnDoe\n"
     ]
    }
   ],
   "source": [
    "console.log(\"His name is \" + firstName + lastName);"
   ]
  },
  {
   "cell_type": "markdown",
   "id": "703ccabc-da3b-42e7-8728-9b546ba0ab13",
   "metadata": {},
   "source": [
    "We are missing a space between the first name and the last name. We can fix this by adding a blank space, using an empty set of quotes, make sure you put a space between the quotes:"
   ]
  },
  {
   "cell_type": "code",
   "execution_count": 35,
   "id": "bfe52642-5c74-4e9e-94ab-13a06d8d7b54",
   "metadata": {},
   "outputs": [
    {
     "name": "stdout",
     "output_type": "stream",
     "text": [
      "His name is John Doe\n"
     ]
    }
   ],
   "source": [
    "console.log(\"His name is \" + firstName + \" \" + lastName);"
   ]
  },
  {
   "cell_type": "markdown",
   "id": "e3ccee5a-f2be-4499-8e99-80ced44efeac",
   "metadata": {},
   "source": [
    "We can also use operators on variables. For instance we will use the equality operator to see if the 2 variablse below are equal. It will return true of false:"
   ]
  },
  {
   "cell_type": "code",
   "execution_count": 44,
   "id": "d21cafa0-7017-4a46-a2e6-f63454ddedeb",
   "metadata": {},
   "outputs": [
    {
     "ename": "SyntaxError",
     "evalue": "Identifier 'trainTicketValue' has already been declared",
     "execution_count": 44,
     "output_type": "error",
     "traceback": [
      "evalmachine.<anonymous>:1",
      "let trainTicketValue = 5;",
      "^",
      "",
      "SyntaxError: Identifier 'trainTicketValue' has already been declared",
      "    at Script.runInThisContext (node:vm:122:12)",
      "    at Object.runInThisContext (node:vm:296:38)",
      "    at run ([eval]:1020:15)",
      "    at onRunRequest ([eval]:864:18)",
      "    at onMessage ([eval]:828:13)",
      "    at process.emit (node:events:514:28)",
      "    at emit (node:internal/child_process:951:14)",
      "    at process.processTicksAndRejections (node:internal/process/task_queues:83:21)"
     ]
    }
   ],
   "source": [
    "let trainTicketValue = 5;\n",
    "let trainNumber = 4;"
   ]
  },
  {
   "cell_type": "code",
   "execution_count": 45,
   "id": "315519a5-48d7-48c6-a29d-338df2caf608",
   "metadata": {},
   "outputs": [
    {
     "ename": "ReferenceError",
     "evalue": "trainNumber is not defined",
     "execution_count": 45,
     "output_type": "error",
     "traceback": [
      "evalmachine.<anonymous>:1",
      "console.log(trainTicketValue == trainNumber);",
      "                                ^",
      "",
      "ReferenceError: trainNumber is not defined",
      "    at evalmachine.<anonymous>:1:33",
      "    at Script.runInThisContext (node:vm:122:12)",
      "    at Object.runInThisContext (node:vm:296:38)",
      "    at run ([eval]:1020:15)",
      "    at onRunRequest ([eval]:864:18)",
      "    at onMessage ([eval]:828:13)",
      "    at process.emit (node:events:514:28)",
      "    at emit (node:internal/child_process:951:14)",
      "    at process.processTicksAndRejections (node:internal/process/task_queues:83:21)"
     ]
    }
   ],
   "source": [
    "console.log(trainTicketValue == trainNumber);"
   ]
  },
  {
   "cell_type": "code",
   "execution_count": null,
   "id": "6b31fbd8-8c6d-4bf4-885a-7cfd6c1ddfaa",
   "metadata": {},
   "outputs": [],
   "source": []
  },
  {
   "cell_type": "code",
   "execution_count": null,
   "id": "2e44a952-2cb7-47f3-9231-13bc603af912",
   "metadata": {},
   "outputs": [],
   "source": []
  },
  {
   "cell_type": "code",
   "execution_count": null,
   "id": "caa5b707-97e4-4955-90d8-4de61f95a7a7",
   "metadata": {},
   "outputs": [],
   "source": []
  }
 ],
 "metadata": {
  "kernelspec": {
   "display_name": "JavaScript (Node.js)",
   "language": "javascript",
   "name": "javascript"
  },
  "language_info": {
   "file_extension": ".js",
   "mimetype": "application/javascript",
   "name": "javascript",
   "version": "20.8.1"
  }
 },
 "nbformat": 4,
 "nbformat_minor": 5
}
