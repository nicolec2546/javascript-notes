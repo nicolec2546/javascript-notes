{
 "cells": [
  {
   "cell_type": "markdown",
   "id": "601908fd-4dc6-4223-91c8-28f54e42376d",
   "metadata": {},
   "source": [
    "hello!"
   ]
  },
  {
   "cell_type": "code",
   "execution_count": null,
   "id": "7876316f-0431-4eaa-9dea-99dbeb584e76",
   "metadata": {},
   "outputs": [],
   "source": []
  }
 ],
 "metadata": {
  "kernelspec": {
   "display_name": "JavaScript (Node.js)",
   "language": "javascript",
   "name": "javascript"
  },
  "language_info": {
   "file_extension": ".js",
   "mimetype": "application/javascript",
   "name": "javascript",
   "version": "20.8.1"
  }
 },
 "nbformat": 4,
 "nbformat_minor": 5
}
