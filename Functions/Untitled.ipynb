{
 "cells": [
  {
   "cell_type": "markdown",
   "id": "131cc039-31b9-472d-b493-dd2d2042c41e",
   "metadata": {},
   "source": [
    "# Functions"
   ]
  },
  {
   "cell_type": "markdown",
   "id": "97dcfbb3-3d81-4a60-b96d-87850d0bd1d6",
   "metadata": {},
   "source": [
    "***"
   ]
  },
  {
   "cell_type": "markdown",
   "id": "4a150b91-54f1-48fe-a47a-ee25bbb7d2f7",
   "metadata": {},
   "source": [
    "Documentation located here."
   ]
  },
  {
   "cell_type": "markdown",
   "id": "2d2bb8cf-2a2b-4095-a8e8-07bb633c05b5",
   "metadata": {},
   "source": [
    "Functions: Functions are one of the fundamental building blocks in JavaScript. A function in\n",
    "JavaScript is similar to a procedure—a set of statements that performs a task or calculates a\n",
    "value, but for a procedure to qualify as a function, it should take some input and return an\n",
    "output. Functions are repeatable lines of code that make our programs neater and easier to\n",
    "read and run."
   ]
  },
  {
   "cell_type": "markdown",
   "id": "6f992f47-65a1-4207-8837-5f33d18a7354",
   "metadata": {},
   "source": [
    "# Defining Functions"
   ]
  },
  {
   "cell_type": "markdown",
   "id": "09181be5-cf5c-48a1-bd7f-8dccf3e7b383",
   "metadata": {},
   "source": [
    "***"
   ]
  },
  {
   "cell_type": "markdown",
   "id": "feb90214-c7a6-4076-8943-e6d47bd77ad1",
   "metadata": {},
   "source": [
    "In JavaScript, in order to create a function there is a syntax that we use. There are multiple\r\n",
    "ways to create functions in Javascript, we will talk about 2 different ways below."
   ]
  },
  {
   "cell_type": "markdown",
   "id": "a2093fcf-f519-402e-a523-7afbf48de5f6",
   "metadata": {},
   "source": [
    "Function Declarations:"
   ]
  },
  {
   "cell_type": "markdown",
   "id": "a38b7448-a487-408a-a50d-a46c9db9b8f6",
   "metadata": {},
   "source": [
    "A function definition (also called a function declaration, or function statement) consists of\r\n",
    "the function keyword, followed by:"
   ]
  },
  {
   "cell_type": "markdown",
   "id": "eb97ca31-a637-440d-a63d-3e2000ccdf59",
   "metadata": {},
   "source": [
    "1. The name of the function.\r\n",
    "2. A list of parameters to the function, enclosed in parentheses and separated commas.\r\n",
    "3. The savaScript statements that define the function, enclosed in curly braces, { /* ... */ }."
   ]
  },
  {
   "cell_type": "markdown",
   "id": "31e64e9e-b7e5-4a2d-99d6-9ff66366a6ea",
   "metadata": {},
   "source": [
    "Example:"
   ]
  },
  {
   "cell_type": "code",
   "execution_count": 3,
   "id": "7ad9d268-9611-45be-ab28-588b8988eac5",
   "metadata": {},
   "outputs": [
    {
     "ename": "SyntaxError",
     "evalue": "invalid syntax (3214244549.py, line 1)",
     "output_type": "error",
     "traceback": [
      "\u001b[0;36m  Cell \u001b[0;32mIn[3], line 1\u001b[0;36m\u001b[0m\n\u001b[0;31m    function square(number){\u001b[0m\n\u001b[0m             ^\u001b[0m\n\u001b[0;31mSyntaxError\u001b[0m\u001b[0;31m:\u001b[0m invalid syntax\n"
     ]
    }
   ],
   "source": [
    "function square(number){\n",
    "return number * number;\n",
    "}"
   ]
  },
  {
   "cell_type": "markdown",
   "id": "5eeea6b8-8545-4b89-a305-fdcb94860f41",
   "metadata": {},
   "source": [
    "In the example above the function called square takes a single parameter, which is the\n",
    "word enclosed in parenthesis. The function then utilizes the return keyword to pass the\n",
    "result of the parameter out of the function."
   ]
  },
  {
   "cell_type": "markdown",
   "id": "a0916208-2529-4488-abd8-7e3e862e6297",
   "metadata": {},
   "source": [
    "Parameter: A parameter in programming is a named variable used only in a function or\n",
    "method definition. It acts like a variable, a placeholder that recieves and holds the values\n",
    "passed to the function when its called."
   ]
  },
  {
   "cell_type": "markdown",
   "id": "3aebf837-6fb0-4aed-967f-5aa4ccffad8d",
   "metadata": {},
   "source": [
    "Return: A return statement in a function is an optional statement that exists the function and returns a value to the program, outside of the block of the function. Any code following In [1]: the return statement is not executed. If a function doesnt have a return statement, or if no\n",
    "return value is specified, the function returns as undefined."
   ]
  },
  {
   "cell_type": "code",
   "execution_count": 5,
   "id": "1955185d-8253-4225-8494-35f8ae2e4bae",
   "metadata": {},
   "outputs": [
    {
     "ename": "SyntaxError",
     "evalue": "invalid syntax (3485020918.py, line 1)",
     "output_type": "error",
     "traceback": [
      "\u001b[0;36m  Cell \u001b[0;32mIn[5], line 1\u001b[0;36m\u001b[0m\n\u001b[0;31m    function sum(a, b) {\u001b[0m\n\u001b[0m             ^\u001b[0m\n\u001b[0;31mSyntaxError\u001b[0m\u001b[0;31m:\u001b[0m invalid syntax\n"
     ]
    }
   ],
   "source": [
    "function sum(a, b) {\n",
    "return a +b ;\n",
    "}"
   ]
  },
  {
   "cell_type": "markdown",
   "id": "c4ec55a5-de2c-4c37-9ee2-11342aeb3860",
   "metadata": {},
   "source": [
    "In the function above we are utilizing 2 parameters and simply adding 2 numbers., A and B.\n",
    "We are then returning the value out of the function. However please note that functions\n",
    "need to have more than a definition which is seen above. We now need to call the function,\n",
    "in order to utilize it.is 8"
   ]
  },
  {
   "cell_type": "markdown",
   "id": "1cad3d53-465a-4c85-93e7-02b3a1f65407",
   "metadata": {},
   "source": [
    "# Calling a Function"
   ]
  },
  {
   "cell_type": "markdown",
   "id": "ed205325-934d-41ff-8ede-fbed5fc12674",
   "metadata": {},
   "source": [
    "***"
   ]
  },
  {
   "cell_type": "markdown",
   "id": "0ff4584d-f24c-4479-a50f-0748341f24b3",
   "metadata": {},
   "source": [
    "Function Call: A function call is when you call or use the function you have created. Note\n",
    "that when you create a function it does not need to be used right away in a procedural\n",
    "order. You can create it and use it whenever you need, as many times as needed. Before\n",
    "calling the function you must define it in the steps above. The syntax for calling a function is\n",
    "below, we are using the function definition from the sum function we created above. Note\n",
    "that we are using something called arguments in a function call."
   ]
  },
  {
   "cell_type": "markdown",
   "id": "55f2d7cf-752f-49c9-8425-0b238450285c",
   "metadata": {},
   "source": [
    "Argument: An argument is the value we input in the function call that is passed through the\n",
    "function via parameters. In other words the value of arguments are inptu and become the\n",
    "value of parameters in the function definition, much like how you assign a variable a value.\n",
    "The position of arguments matter, the arguments fill in the parameters in the ordere in\n",
    "which they are written."
   ]
  },
  {
   "cell_type": "markdown",
   "id": "889ecc6d-7e05-40d5-8de8-5147d8e0036c",
   "metadata": {},
   "source": [
    "Syntax:"
   ]
  },
  {
   "cell_type": "markdown",
   "id": "c384f231-f1de-42fb-a1c9-60c7f5fa4095",
   "metadata": {},
   "source": [
    "function_name (arguments);"
   ]
  },
  {
   "cell_type": "markdown",
   "id": "c646b487-b20a-4ae6-9dba-71e05ce31ad7",
   "metadata": {},
   "source": [
    "Example:"
   ]
  },
  {
   "cell_type": "code",
   "execution_count": 7,
   "id": "0faddaea-0adf-4356-8976-847c66662eaf",
   "metadata": {},
   "outputs": [
    {
     "ename": "TypeError",
     "evalue": "'int' object is not iterable",
     "output_type": "error",
     "traceback": [
      "\u001b[0;31m---------------------------------------------------------------------------\u001b[0m",
      "\u001b[0;31mTypeError\u001b[0m                                 Traceback (most recent call last)",
      "Cell \u001b[0;32mIn[7], line 1\u001b[0m\n\u001b[0;32m----> 1\u001b[0m \u001b[38;5;28;43msum\u001b[39;49m\u001b[43m(\u001b[49m\u001b[38;5;241;43m3\u001b[39;49m\u001b[43m,\u001b[49m\u001b[38;5;241;43m5\u001b[39;49m\u001b[43m)\u001b[49m;\n",
      "\u001b[0;31mTypeError\u001b[0m: 'int' object is not iterable"
     ]
    }
   ],
   "source": [
    "sum(3,5);"
   ]
  },
  {
   "cell_type": "markdown",
   "id": "ca79ab6d-535e-40ac-9ca6-484d066eed9f",
   "metadata": {},
   "source": [
    "Here is how we can call the square function we defined before in our notes."
   ]
  },
  {
   "cell_type": "markdown",
   "id": "745582a2-a0d3-402f-941e-ee627eea8ad2",
   "metadata": {},
   "source": [
    "Example:"
   ]
  },
  {
   "cell_type": "code",
   "execution_count": 8,
   "id": "39228501-596f-4777-9230-9ed933541aac",
   "metadata": {},
   "outputs": [
    {
     "ename": "NameError",
     "evalue": "name 'square' is not defined",
     "output_type": "error",
     "traceback": [
      "\u001b[0;31m---------------------------------------------------------------------------\u001b[0m",
      "\u001b[0;31mNameError\u001b[0m                                 Traceback (most recent call last)",
      "Cell \u001b[0;32mIn[8], line 1\u001b[0m\n\u001b[0;32m----> 1\u001b[0m \u001b[43msquare\u001b[49m(\u001b[38;5;241m5\u001b[39m);\n",
      "\u001b[0;31mNameError\u001b[0m: name 'square' is not defined"
     ]
    }
   ],
   "source": [
    "square(5);"
   ]
  },
  {
   "cell_type": "markdown",
   "id": "63f39032-9d39-48f8-a61d-e946671a0eb7",
   "metadata": {},
   "source": [
    "Syntax:"
   ]
  },
  {
   "cell_type": "markdown",
   "id": "3926c7ad-1929-49a9-988a-da42db8f35c6",
   "metadata": {},
   "source": [
    "# Function Definitions and Calls"
   ]
  },
  {
   "cell_type": "markdown",
   "id": "cce8d321-cf48-4f51-b786-a18394cc0eee",
   "metadata": {},
   "source": [
    "***"
   ]
  },
  {
   "cell_type": "markdown",
   "id": "5ab0fd75-715e-41df-bb59-a79c324a5327",
   "metadata": {},
   "source": [
    "We always utilize function definitions, calls, parameters, return and arguments together.\r\n",
    "Parameters, return statements and arguments are always optional. Below are some example\r\n",
    "are simple functions with their definitions and calls. Note that Jupyter Lab will print these\r\n",
    "functions by default. You must create print statements / variables to actually see\r\n",
    "results of your functions in regular JS."
   ]
  },
  {
   "cell_type": "markdown",
   "id": "e4f4fd51-7dbe-4f49-845a-e3cba70e7f56",
   "metadata": {},
   "source": [
    "Examples:"
   ]
  },
  {
   "cell_type": "code",
   "execution_count": 10,
   "id": "f5b07cf9-f73f-4531-88e8-fb963dcee6e7",
   "metadata": {},
   "outputs": [
    {
     "ename": "SyntaxError",
     "evalue": "invalid syntax (4103736779.py, line 1)",
     "output_type": "error",
     "traceback": [
      "\u001b[0;36m  Cell \u001b[0;32mIn[10], line 1\u001b[0;36m\u001b[0m\n\u001b[0;31m    function greet(name) {\u001b[0m\n\u001b[0m             ^\u001b[0m\n\u001b[0;31mSyntaxError\u001b[0m\u001b[0;31m:\u001b[0m invalid syntax\n"
     ]
    }
   ],
   "source": [
    "function greet(name) {\n",
    "console.log(\"Hello there \" + name);\n",
    "}\n",
    "greet(\"Cooper\");"
   ]
  },
  {
   "cell_type": "code",
   "execution_count": 11,
   "id": "0c00cf2d-ed8f-48e7-858f-24753e26681b",
   "metadata": {},
   "outputs": [
    {
     "ename": "SyntaxError",
     "evalue": "invalid syntax (2790215790.py, line 1)",
     "output_type": "error",
     "traceback": [
      "\u001b[0;36m  Cell \u001b[0;32mIn[11], line 1\u001b[0;36m\u001b[0m\n\u001b[0;31m    function ageFinder(dateOfBirth, currentYear) {\u001b[0m\n\u001b[0m             ^\u001b[0m\n\u001b[0;31mSyntaxError\u001b[0m\u001b[0;31m:\u001b[0m invalid syntax\n"
     ]
    }
   ],
   "source": [
    "function ageFinder(dateOfBirth, currentYear) {\n",
    "let age = currentYear - dateOfBirth;\n",
    "return age;\n",
    "}\n",
    "console.log(ageFinder(1990, 2023));"
   ]
  },
  {
   "cell_type": "markdown",
   "id": "3dc42fe5-2b55-4fa4-b919-967b115ea28e",
   "metadata": {},
   "source": [
    "# Returning vs. console.Log() in Functions"
   ]
  },
  {
   "cell_type": "markdown",
   "id": "03bb436f-4d27-4894-9151-1e95f4edcac1",
   "metadata": {},
   "source": [
    "***"
   ]
  },
  {
   "cell_type": "markdown",
   "id": "3424e02e-acdb-470c-acfe-8e33cc9b88c6",
   "metadata": {},
   "source": [
    "Often when starting out we will only need to display the value of the result of the function.\r\n",
    "We can do this by simply logging the value to the console. However this is often not\r\n",
    "sufficient for programs. A printed value can only be used in the block, the problem will pop\r\n",
    "up when trying to use function values elsewhere. Lets take a look at this using a function\r\n",
    "below."
   ]
  },
  {
   "cell_type": "markdown",
   "id": "0340e867-3606-4764-b2d2-5d5ccfdfbe19",
   "metadata": {},
   "source": [
    "Example:"
   ]
  },
  {
   "cell_type": "code",
   "execution_count": 12,
   "id": "2d3bf6de-494a-421e-9969-6f20eeec59c0",
   "metadata": {},
   "outputs": [
    {
     "ename": "SyntaxError",
     "evalue": "invalid syntax (3236493534.py, line 1)",
     "output_type": "error",
     "traceback": [
      "\u001b[0;36m  Cell \u001b[0;32mIn[12], line 1\u001b[0;36m\u001b[0m\n\u001b[0;31m    function printTen() {\u001b[0m\n\u001b[0m             ^\u001b[0m\n\u001b[0;31mSyntaxError\u001b[0m\u001b[0;31m:\u001b[0m invalid syntax\n"
     ]
    }
   ],
   "source": [
    "function printTen() {\n",
    "console.log(10);\n",
    "}\n",
    "let value = printTen();\n",
    "console.log(value * 2);"
   ]
  },
  {
   "cell_type": "markdown",
   "id": "b9a4c963-af92-41c1-84d8-6787e2931ffe",
   "metadata": {},
   "source": [
    "When we try to use the value from the function we will recieve an error, this is because the\r\n",
    "value is printed and not returned . If I wanted to use the value from the function\r\n",
    "elsewhere, then we run into problems. The way we can fix this is by returning values."
   ]
  },
  {
   "cell_type": "markdown",
   "id": "ba3d6303-20ae-479b-9445-e83a8ffef782",
   "metadata": {},
   "source": [
    "Example:"
   ]
  },
  {
   "cell_type": "code",
   "execution_count": 13,
   "id": "8716dd1b-9af0-4ca7-9a01-571fc4c7665c",
   "metadata": {},
   "outputs": [
    {
     "ename": "SyntaxError",
     "evalue": "invalid syntax (925151964.py, line 1)",
     "output_type": "error",
     "traceback": [
      "\u001b[0;36m  Cell \u001b[0;32mIn[13], line 1\u001b[0;36m\u001b[0m\n\u001b[0;31m    function returnTen() {\u001b[0m\n\u001b[0m             ^\u001b[0m\n\u001b[0;31mSyntaxError\u001b[0m\u001b[0;31m:\u001b[0m invalid syntax\n"
     ]
    }
   ],
   "source": [
    "function returnTen() {\n",
    "return 10;\n",
    "}\n",
    "returnTen();\n",
    "let returnedValue = returnTen();\n",
    "console.log(returnedValue * 2);"
   ]
  },
  {
   "cell_type": "markdown",
   "id": "995fb798-b448-4f4a-9b93-def006fc9fbf",
   "metadata": {},
   "source": [
    "# Arrow Functions (A cleaner way of writing functions)"
   ]
  },
  {
   "cell_type": "markdown",
   "id": "a1c4bc28-d822-4a86-ae9c-1fe41377668f",
   "metadata": {},
   "source": [
    "***"
   ]
  },
  {
   "cell_type": "markdown",
   "id": "9d71ca85-ca19-4a42-a4d5-87bf20c69fc2",
   "metadata": {},
   "source": [
    "An arrow function is a more concise and cleaner way to write functions."
   ]
  },
  {
   "cell_type": "markdown",
   "id": "6ab0e00c-a11d-48d5-b63c-3599362dfcf6",
   "metadata": {},
   "source": [
    "Example:"
   ]
  },
  {
   "cell_type": "code",
   "execution_count": 14,
   "id": "d0cf3f2e-9857-4da1-983f-f57a97474d10",
   "metadata": {},
   "outputs": [
    {
     "ename": "SyntaxError",
     "evalue": "invalid syntax (925363155.py, line 1)",
     "output_type": "error",
     "traceback": [
      "\u001b[0;36m  Cell \u001b[0;32mIn[14], line 1\u001b[0;36m\u001b[0m\n\u001b[0;31m    const square = (number) => {\u001b[0m\n\u001b[0m          ^\u001b[0m\n\u001b[0;31mSyntaxError\u001b[0m\u001b[0;31m:\u001b[0m invalid syntax\n"
     ]
    }
   ],
   "source": [
    "const square = (number) => {\n",
    "return number * number;\n",
    "}"
   ]
  },
  {
   "cell_type": "markdown",
   "id": "e48834d8-edac-460c-9227-d2d951778692",
   "metadata": {},
   "source": [
    "1. The name of the function is preceded by a variable keyword (let or const), then choose a\r\n",
    "name.\r\n",
    "2. The parameters are listed in the parenthesis, if no parameters are needed you must\r\n",
    "include the parethesis still.\r\n",
    "3. Use an arrow => and open curly braces.\r\n",
    "4. Input code to execute in the block."
   ]
  },
  {
   "cell_type": "code",
   "execution_count": null,
   "id": "a84569ce-eb02-4d49-8b6f-299eb3303983",
   "metadata": {},
   "outputs": [],
   "source": []
  }
 ],
 "metadata": {
  "kernelspec": {
   "display_name": "Python 3 (ipykernel)",
   "language": "python",
   "name": "python3"
  },
  "language_info": {
   "codemirror_mode": {
    "name": "ipython",
    "version": 3
   },
   "file_extension": ".py",
   "mimetype": "text/x-python",
   "name": "python",
   "nbconvert_exporter": "python",
   "pygments_lexer": "ipython3",
   "version": "3.10.8"
  }
 },
 "nbformat": 4,
 "nbformat_minor": 5
}
