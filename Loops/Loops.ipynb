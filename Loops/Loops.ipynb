{
 "cells": [
  {
   "cell_type": "markdown",
   "id": "63796420-fee5-4980-b266-b88a6ef0ca4b",
   "metadata": {},
   "source": [
    "# Loops in Javascript\n",
    "***"
   ]
  },
  {
   "cell_type": "markdown",
   "id": "efb46b74-4a32-4be7-b7cf-26f35b0860aa",
   "metadata": {},
   "source": [
    "Documentation located here."
   ]
  },
  {
   "cell_type": "markdown",
   "id": "b53b9a8b-2076-449c-a2b8-973d201935b3",
   "metadata": {},
   "source": [
    "### The Purpose of Loops"
   ]
  },
  {
   "cell_type": "markdown",
   "id": "f1da1711-b53c-4e5e-b5b7-4750ecebb47c",
   "metadata": {},
   "source": [
    "Loops are fundamental constructs in programming used to automate repetitive tasks,\r\n",
    "thereby making code more efficient and less cluttered. They are particularly useful in various\r\n",
    "scenarios, such as processing lists or arrays, repeating actions, or handling user inputs. Loops\r\n",
    "typically utilize an iterator variable, which tracks the state or progress of the loop. This\r\n",
    "iterator is often integral to the condition that determines when the loop starts and stops. By\r\n",
    "evaluating this condition, the loop can execute its code block repeatedly until the specified\r\n",
    "condition is no longer met.\r\n"
   ]
  },
  {
   "cell_type": "markdown",
   "id": "25908b94-b82f-43c7-8f5d-3093941eb832",
   "metadata": {},
   "source": [
    "Iterator variables can have any name, yet often are represented by the letter i or another\r\n",
    "short letter.\r\n"
   ]
  },
  {
   "cell_type": "markdown",
   "id": "00ffb6f5-f64e-4bd4-a0b1-7e1225c34702",
   "metadata": {},
   "source": [
    "Note that in loops we often have a condition to change or modify the condition.\r\n"
   ]
  },
  {
   "cell_type": "markdown",
   "id": "88b4104e-755d-4ff3-b186-ee2cd1ee05c9",
   "metadata": {},
   "source": [
    "Loops, like most logic in programming can be evaluating to True or False ."
   ]
  },
  {
   "cell_type": "markdown",
   "id": "fdb40c8f-e29f-4898-b6e7-3739121d583e",
   "metadata": {},
   "source": [
    "# Types of Loops\n",
    "***"
   ]
  },
  {
   "cell_type": "markdown",
   "id": "eb75b84e-723b-40bc-a0c7-5d6c94835674",
   "metadata": {},
   "source": [
    "### While Loops"
   ]
  },
  {
   "cell_type": "markdown",
   "id": "539110cc-53c5-44e8-aee6-e88971183e89",
   "metadata": {},
   "source": [
    "A \"While\" Loop is used to repeat a specific block of code an unknown number of times, until\n",
    "a condition is met. For example, if we want to ask a user for a number between 1 and 10, we\n",
    "don't know how many times the user may enter a larger number, so we keep asking \"while\n",
    "the number is not between 1 and 10\". If we (or the computer) knows exactly how many times\n",
    "to execute a section of code (such as shuffling a deck of cards) we use a for loop.\n"
   ]
  },
  {
   "cell_type": "code",
   "execution_count": null,
   "id": "656b728c-c649-4a83-ab82-34ec049a630f",
   "metadata": {},
   "outputs": [],
   "source": [
    "#This loop just counts from 1 to 4 and prints out the loops iterator variable value\n",
    "i = 1;\n",
    "while (i < 5):\n",
    "    console.log(i + \" Silly looking dogs\");\n",
    "    i = i + 1;"
   ]
  },
  {
   "cell_type": "markdown",
   "id": "edb2a6b4-bc48-489a-ad73-b4c751d19280",
   "metadata": {},
   "source": [
    "Note: Please not the i++ which is incrementing the value of i . Without this this while\n",
    "loop would be stuck forever, since the condition is not being changed or satisfied."
   ]
  },
  {
   "cell_type": "code",
   "execution_count": null,
   "id": "e4c7c75d-726a-4cbf-b23d-63213590a69f",
   "metadata": {},
   "outputs": [],
   "source": [
    "#Counts down from a number. The -- is decrementing the value as opposed to ++ which\n",
    "count = 10;\n",
    "while(count > 0):\n",
    "    console.log(count);\n",
    "count = count - 1;"
   ]
  },
  {
   "cell_type": "code",
   "execution_count": null,
   "id": "3f1c2937-0027-48c3-86db-353dfce82138",
   "metadata": {},
   "outputs": [],
   "source": [
    "#Calculates the sum of a number from 1 to 10\n",
    "sum = 0;\n",
    "number = 1;\n",
    "while (number <= 10):\n",
    "    sum += number; # same as sum = sum + number\n",
    "number = number + 1;\n",
    "console.log(\"Sum is:\", sum);"
   ]
  },
  {
   "cell_type": "markdown",
   "id": "84676b10-19a6-4d56-bfaf-4c0606c6b34f",
   "metadata": {},
   "source": [
    "### For Loops"
   ]
  },
  {
   "cell_type": "markdown",
   "id": "812d6e46-f7b5-4ae8-93d0-400bcf263268",
   "metadata": {},
   "source": [
    "A \"For\" Loop is used to repeat a specific block of code a known number of times. For\r\n",
    "example, if we want to check the grade of every student in the class, we loop from 1 to that\r\n",
    "number. When the number of times is not known before hand, we use a \"While\" loop.\r\n"
   ]
  },
  {
   "cell_type": "markdown",
   "id": "9301e1b5-f7bd-4f8e-b617-85afc8688d7a",
   "metadata": {},
   "source": [
    "The for loop is used to repeat a section of code known number of times. Sometimes it is the\r\n",
    "computer that knows how many times, not you, but it is still known. Some examples:\r\n"
   ]
  },
  {
   "cell_type": "markdown",
   "id": "21805cac-d170-48ad-9f00-b8c7432c8eae",
   "metadata": {},
   "source": [
    "Unknown number of times:"
   ]
  },
  {
   "cell_type": "markdown",
   "id": "b3ba0980-125f-4f94-a690-bd2788b0a20e",
   "metadata": {},
   "source": [
    "\"Ask the User to Guess a pre-determined number between 1 and 100\". You have no way of\r\n",
    "knowing how many guesses it will take.\r\n"
   ]
  },
  {
   "cell_type": "markdown",
   "id": "e22b4ada-d595-40a9-bd9e-eb4b38354dec",
   "metadata": {},
   "source": [
    "\"Randomly look in an array for a given value.\" You have no way of knowing how many tries it will take to find the actual value. \n"
   ]
  },
  {
   "cell_type": "markdown",
   "id": "8f954204-7cae-40b2-aeb0-559504e25913",
   "metadata": {},
   "source": [
    "Note: this is a made-up example, because you would never randomly look into an array to\r\n",
    "find a value. You would always start at the front of the array and look one element at a time\r\n",
    "until you found the item or got to the end of the array.\r\n"
   ]
  },
  {
   "cell_type": "markdown",
   "id": "607cc336-bc75-4fd8-b1ad-e6a00ef1b20d",
   "metadata": {},
   "source": [
    "Known number of times:"
   ]
  },
  {
   "cell_type": "markdown",
   "id": "4a5b8851-52ab-4b5b-801d-9e12cc71d8bb",
   "metadata": {},
   "source": [
    "Compute the average grade of the class. While you (the programmer) might not know how\r\n",
    "many grades exist in the class, the computer will know. Usually this is accomplished by using\r\n",
    "the \"length\" function on an array.\r\n"
   ]
  },
  {
   "cell_type": "markdown",
   "id": "a529258e-1bc0-4165-8c74-acff411d79a3",
   "metadata": {},
   "source": [
    "Print the odd numbers from 1 to 1001."
   ]
  },
  {
   "cell_type": "markdown",
   "id": "94bb71fa-18ee-4630-9c37-32c4cc208f5e",
   "metadata": {},
   "source": [
    "Search a list (array) of numbers for the biggest grade. Again, the computer \"knows\" how\r\n",
    "many grades there are, so a for loop is appropriate.\r\n"
   ]
  },
  {
   "cell_type": "code",
   "execution_count": null,
   "id": "af320cb6-1a33-4021-a662-92c6f1adb51e",
   "metadata": {},
   "outputs": [],
   "source": [
    "#Prints out `i` 5 times.\n",
    "for(let i = 1; i <= 5; i = i + 1)\n",
    "    console.log(i);"
   ]
  },
  {
   "cell_type": "markdown",
   "id": "ec8699c9-5713-4958-baab-34f7cc35a4d7",
   "metadata": {},
   "source": [
    "Note that this will run for as long as the condition is false, as dictated by the iterator variable."
   ]
  },
  {
   "cell_type": "code",
   "execution_count": null,
   "id": "20ca1149-4a2d-4e28-8e4c-78a9a6734e75",
   "metadata": {},
   "outputs": [],
   "source": [
    "#Iterates through a list to check if the specified element is in the list\n",
    "const fruits = [\"Apple\", \"Pear\", \"Cherry\", \"Date\"]\n",
    "for(let i = 0; i < fruits.length; i++):\n",
    "if(fruits[i] === \"Pear\"):\n",
    "    console.log(\"Pear located in the list\");"
   ]
  },
  {
   "cell_type": "markdown",
   "id": "787c19fb-7004-49e0-9fd6-87e30bbc7914",
   "metadata": {},
   "source": [
    "Note that we can look at the length of the list using the .length() list method. This is an easy\r\n",
    "way of telling the computer you want the length of the list. We can also use it to see how\r\n",
    "many items are in the list. Lets look at another example below.\r\n"
   ]
  },
  {
   "cell_type": "code",
   "execution_count": null,
   "id": "0a09028a-efcf-4342-8e4e-85fecf747506",
   "metadata": {},
   "outputs": [],
   "source": [
    "students = [\"Nicole\", \"Kye\", \"Leila\"];\n",
    "console.log(students.length)"
   ]
  },
  {
   "cell_type": "code",
   "execution_count": null,
   "id": "f8153c55-4036-4c32-82a1-cce1ecdb1af3",
   "metadata": {},
   "outputs": [],
   "source": [
    "#Looks through a list of students and lists what number each student is.\n",
    "let studentList = [\"Nicole\", \"Kye\", \"Leila\"];\n",
    "for(let i = 0; i < studentList.length; i++):\n",
    "    console.log(studentList[i] + \" is student number \" + (i + 1));"
   ]
  },
  {
   "cell_type": "code",
   "execution_count": null,
   "id": "329e15c6-581d-4bd4-a4c2-70d80672dd15",
   "metadata": {},
   "outputs": [],
   "source": [
    "#Sums list items\n",
    "let numbers = [10, 20, 30, 40, 50];\n",
    "let sum = 0;\n",
    "for (let i = 0; i < numbers.length; i++) {\n",
    "sum += numbers[i];\n",
    "}\n",
    "console.log(\"Total Sum:\", sum);"
   ]
  },
  {
   "cell_type": "markdown",
   "id": "7b88efdd-190b-4213-aa51-8284ad5878d8",
   "metadata": {},
   "source": [
    "### do..while loops"
   ]
  },
  {
   "cell_type": "markdown",
   "id": "704aabd9-00f1-415e-bb08-be344ae49c44",
   "metadata": {},
   "source": [
    "Executes at least once, even if the condition is initially false."
   ]
  },
  {
   "cell_type": "code",
   "execution_count": null,
   "id": "c06c8399-faa3-4b21-af12-da5b84284e78",
   "metadata": {},
   "outputs": [],
   "source": [
    "#Takes an input, then prints out the userInput, this continues until a number less\n",
    "let userInput;\n",
    "do {\n",
    "userInput = Math.random(); # Simulate user input with random number\n",
    "console.log(\"User Input:\", userInput);\n",
    "} while (userInput < 0.5);"
   ]
  },
  {
   "cell_type": "code",
   "execution_count": null,
   "id": "e7125965-94ef-4fbd-894f-74c1c8d63984",
   "metadata": {},
   "outputs": [],
   "source": [
    "#Generating a random number until its even. Checking for an even number with the m\n",
    "let randomNumber;\n",
    "do {\n",
    "randomNumber = Math.floor(Math.random() * 100); # Random number between 0 and\n",
    "console.log(\"Generated Number:\", randomNumber);\n",
    "} while (randomNumber % 2 !== 0); # Continue if the number is odd\n"
   ]
  },
  {
   "cell_type": "markdown",
   "id": "69e67898-ecb1-4b1f-bf20-8a053008e824",
   "metadata": {},
   "source": [
    "# Commmon Mistakes\n",
    "***"
   ]
  },
  {
   "cell_type": "markdown",
   "id": "c1d6c7f3-372c-48f1-bfee-2cbfafb796eb",
   "metadata": {},
   "source": [
    "### Infinite Loops"
   ]
  },
  {
   "cell_type": "markdown",
   "id": "c8eb338c-7e23-4419-8364-84b2ed832b1c",
   "metadata": {},
   "source": [
    "Occur when the loop's exit condition is never met."
   ]
  },
  {
   "cell_type": "markdown",
   "id": "64da9116-ecea-476f-ac30-d16a1311f58d",
   "metadata": {},
   "source": [
    "Common in while and do...while loops if the condition for exiting the loop is not\n",
    "properly updated within the loop."
   ]
  },
  {
   "cell_type": "markdown",
   "id": "4f4b4467-bd72-4973-87ac-d971e7f3f9a3",
   "metadata": {},
   "source": [
    "Example:"
   ]
  },
  {
   "cell_type": "code",
   "execution_count": null,
   "id": "1bb88930-ac0d-47a4-b59a-c37048078d03",
   "metadata": {},
   "outputs": [],
   "source": [
    "let x = 2;\n",
    "while(x < 5):\n",
    "    console.log(\"I will print forever\");"
   ]
  },
  {
   "cell_type": "markdown",
   "id": "813c4de9-242d-4667-a9da-d59f576ad056",
   "metadata": {},
   "source": [
    "### Off By One Errors"
   ]
  },
  {
   "cell_type": "markdown",
   "id": "82a1be92-b08d-4d04-8400-9e57e23e8c98",
   "metadata": {},
   "source": [
    "Incorrectly setting loop boundaries, causing one too many or too few iterations."
   ]
  },
  {
   "cell_type": "code",
   "execution_count": null,
   "id": "c02ad680-795a-4612-b6e7-8ddd99393645",
   "metadata": {},
   "outputs": [],
   "source": [
    "# Off-by-one error: iterates one extra time\n",
    "let array = [1, 2, 3, 4, 5];\n",
    "for (let i = 0; i <= array.length; i++) {\n",
    "console.log(array[i]);\n",
    "}"
   ]
  },
  {
   "cell_type": "markdown",
   "id": "582420d5-0adf-4df2-8c34-6ac4572c487b",
   "metadata": {},
   "source": [
    "### Unintended Scope of Variables"
   ]
  },
  {
   "cell_type": "code",
   "execution_count": null,
   "id": "3c761d21-ad39-44eb-bd84-8a7636b540c0",
   "metadata": {},
   "outputs": [],
   "source": [
    "# Variable 'i' should be accessible outside the loop\n",
    "for (let i = 0; i < 5; i++) {\n",
    "# Loop logic\n",
    "}\n",
    "console.log(i); # Error: 'i' is not defined, it doesnt exist outside the loop."
   ]
  },
  {
   "cell_type": "markdown",
   "id": "c2f34467-ffc4-4d0e-95b6-8fc3b101903e",
   "metadata": {},
   "source": [
    "### Misunderstanding Loop Conditions"
   ]
  },
  {
   "cell_type": "markdown",
   "id": "46df486f-0f0e-4c6c-b448-97af1651c2f4",
   "metadata": {},
   "source": [
    "This happens when you confuse assignment and comparison operators.\n"
   ]
  },
  {
   "cell_type": "code",
   "execution_count": null,
   "id": "fab3c852-0528-47d7-880e-e1a36d9ed363",
   "metadata": {},
   "outputs": [],
   "source": [
    "let i = 0;\n",
    "while (i = 5) { # Mistakenly using assignment '=' instead of '=='\n",
    "# Loop logic\n",
    "}"
   ]
  },
  {
   "cell_type": "markdown",
   "id": "45df8956-6d8b-4d37-b618-dfa29186a841",
   "metadata": {},
   "source": [
    "# Best Practices\n",
    "***"
   ]
  },
  {
   "cell_type": "markdown",
   "id": "33ed37e7-c970-4142-9881-2213992e79ed",
   "metadata": {},
   "source": [
    "### Clearly Define Loop Conditions:\r\n"
   ]
  },
  {
   "cell_type": "markdown",
   "id": "3cf943e6-6341-460c-bc42-d7009f9134ff",
   "metadata": {},
   "source": [
    "Ensure loop conditions are explicit to avoid infinite loops.\r\n"
   ]
  },
  {
   "cell_type": "markdown",
   "id": "b550b67e-a27e-4559-83bf-504923b72c54",
   "metadata": {},
   "source": [
    "Regularly update the condition within the loop as needed."
   ]
  },
  {
   "cell_type": "markdown",
   "id": "7077322a-a73e-4e79-a0b5-299bb8eaeefa",
   "metadata": {},
   "source": [
    "### Use the Most Appropriate Loop Type:"
   ]
  },
  {
   "cell_type": "markdown",
   "id": "0be88a50-4e06-473e-86b1-6dd08f77a2c0",
   "metadata": {},
   "source": [
    "Choose for loops for known iteration counts."
   ]
  },
  {
   "cell_type": "markdown",
   "id": "1789b335-dc9b-4108-98ba-b069e7005770",
   "metadata": {},
   "source": [
    "Opt for while loops when the number of iterations is not predetermined"
   ]
  },
  {
   "cell_type": "markdown",
   "id": "e871598f-7055-4bf9-a24c-81270441faf7",
   "metadata": {},
   "source": [
    "Use do...while loops when the loop body must execute at least once."
   ]
  },
  {
   "cell_type": "markdown",
   "id": "e24f2d5c-6611-4f2e-b6be-559ede41ad54",
   "metadata": {},
   "source": [
    "### Properly Initialize Loop Variables:"
   ]
  },
  {
   "cell_type": "markdown",
   "id": "6c38158b-beb8-4074-9a90-3213ce287aa0",
   "metadata": {},
   "source": [
    "Declare and initialize all loop control variables clearly"
   ]
  },
  {
   "cell_type": "markdown",
   "id": "8a760c62-01e8-442c-bee4-4f442b10bc22",
   "metadata": {},
   "source": [
    "Consider the scope of these variables, especially in for loops.."
   ]
  },
  {
   "cell_type": "markdown",
   "id": "b6d2713b-3d7b-4109-b455-93250cc98464",
   "metadata": {},
   "source": [
    "### Keep Loop Bodies Simple and Clear:"
   ]
  },
  {
   "cell_type": "markdown",
   "id": "f81dfa2d-7baf-466c-8e88-cbd12a308677",
   "metadata": {},
   "source": [
    "Avoid overcomplicating the code inside loops."
   ]
  },
  {
   "cell_type": "markdown",
   "id": "62a9d8ec-f046-4b6c-bd75-f42a801366d3",
   "metadata": {},
   "source": [
    "Strive for readability and maintainability."
   ]
  },
  {
   "cell_type": "markdown",
   "id": "8343fc0d-9ed8-4325-b778-9a92a5f2d32e",
   "metadata": {},
   "source": [
    "### Avoid 'Magic Numbers':"
   ]
  },
  {
   "cell_type": "markdown",
   "id": "c539d660-3917-4638-930c-62b51aaa210e",
   "metadata": {},
   "source": [
    "Use named constants or variables instead of hard-coded numbers in loop conditions."
   ]
  },
  {
   "cell_type": "markdown",
   "id": "5b8b18b5-68a9-4b20-93f9-454ee0896a61",
   "metadata": {},
   "source": [
    "This enhances the readability and adaptability of the code.\r\n"
   ]
  },
  {
   "cell_type": "markdown",
   "id": "34b7d163-323a-4a62-b4f4-3c9716c9925d",
   "metadata": {},
   "source": [
    "### Comment and Document Complex Loops:"
   ]
  },
  {
   "cell_type": "markdown",
   "id": "f896ed6f-1c78-4e8d-9627-c28c36e5662a",
   "metadata": {},
   "source": [
    "Provide clear comments for complex loop logic to aid understanding and future\r\n",
    "maintenance.\r\n"
   ]
  },
  {
   "cell_type": "markdown",
   "id": "f29bfe4e-2478-474a-ae39-8656f25d2635",
   "metadata": {},
   "source": [
    "Describe the purpose and functionality of the loop."
   ]
  },
  {
   "cell_type": "markdown",
   "id": "243fc39c-c787-4ca8-bad3-22c10488fcd8",
   "metadata": {},
   "source": [
    "### Test Loops with Edge Cases:\r\n"
   ]
  },
  {
   "cell_type": "markdown",
   "id": "582206b7-f60d-4614-95f3-5a2d8ac7fa2a",
   "metadata": {},
   "source": [
    "Ensure loops are tested with a variety of inputs, including boundary values and edge\r\n",
    "cases.\r\n"
   ]
  },
  {
   "cell_type": "markdown",
   "id": "b6e17930-e850-476a-956e-31a98d1c7f14",
   "metadata": {},
   "source": [
    "This helps to confirm the loop behaves as expected in all scenarios."
   ]
  },
  {
   "cell_type": "markdown",
   "id": "ea1a6ef0-c003-4d6a-b0fa-300221be36f0",
   "metadata": {},
   "source": [
    "### Refactor and Optimize When Necessary:"
   ]
  },
  {
   "cell_type": "markdown",
   "id": "83fe5281-d18b-47da-9961-c0f501dd0cde",
   "metadata": {},
   "source": [
    "Revisit and refactor loop logic for efficiency and clarity."
   ]
  },
  {
   "cell_type": "markdown",
   "id": "56a8bda0-31b2-4ac1-b3d5-25b46ea73b43",
   "metadata": {},
   "source": [
    "Consider alternative approaches if a loop seems overly complex or inefficient."
   ]
  },
  {
   "cell_type": "code",
   "execution_count": null,
   "id": "59f38c0e-9132-46f5-a12d-38dcd29618d3",
   "metadata": {},
   "outputs": [],
   "source": []
  }
 ],
 "metadata": {
  "kernelspec": {
   "display_name": "Python 3 (ipykernel)",
   "language": "python",
   "name": "python3"
  },
  "language_info": {
   "codemirror_mode": {
    "name": "ipython",
    "version": 3
   },
   "file_extension": ".py",
   "mimetype": "text/x-python",
   "name": "python",
   "nbconvert_exporter": "python",
   "pygments_lexer": "ipython3",
   "version": "3.10.13"
  }
 },
 "nbformat": 4,
 "nbformat_minor": 5
}
